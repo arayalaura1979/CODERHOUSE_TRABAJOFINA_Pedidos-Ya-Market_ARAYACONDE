{
  "nbformat": 4,
  "nbformat_minor": 0,
  "metadata": {
    "colab": {
      "provenance": []
    },
    "kernelspec": {
      "name": "python3",
      "display_name": "Python 3"
    },
    "language_info": {
      "name": "python"
    }
  },
  "cells": [
    {
      "cell_type": "markdown",
      "source": [
        "#**Objetivo:** \n",
        "\n",
        " "
      ],
      "metadata": {
        "id": "E93Ap6HSdfij"
      }
    },
    {
      "cell_type": "markdown",
      "source": [
        "\n",
        "Objetivo:\n",
        "En la validación Cruzada aplicamos los métodos: Cross-validation (validación cruzada), LeaveOneOut (dejar uno fuera), K-Fold para el modelo de Random Forest.\n"
      ],
      "metadata": {
        "id": "9ZC-SewFBKzw"
      }
    },
    {
      "cell_type": "markdown",
      "source": [
        "Descripción del data Set \n",
        "\n",
        "La adquisición de datos corresponden a 5 campañas de encuestas promocionales.\n",
        "\n",
        "Descripción:\n",
        "\n",
        "* Year_Birth Año de Nacimiento\n",
        "* Education Educación\n",
        "* Marital_Status Estado Civil\n",
        "* Income Ingresos\n",
        "* Kidhome número de niños pequeños en casa del cliente.\n",
        "* Teenhome número de adolescentes en casa del cliente\n",
        "* Dt_Customer fecha en la que el cliente se registró al CRM de la compañía.\n",
        "* Recency número de días que pasaron desde la última compra.\n",
        "* MntWines cantidad gastada en vinos en los últimos dos años.\n",
        "* MntFruits cantidad gastada en frutas en los últimos dos años.\n",
        "* MntMeatProducts cantidad gastada en carne en los últimos dos años.\n",
        "* MntFishProducts cantidad gastada en pescado en los últimos dos años.\n",
        "* MntSweetProducts cantidad gastada en dulces en los últimos dos años.\n",
        "* MntGoldProds cantidad gastada en productos de oro en los últimos dos años.\n",
        "* NumDealsPurchases número de compras realizadas con descuentos.\n",
        "* NumWebPurchases número de compras realizadas en el sitio web.\n",
        "* NumCatalogPurchases numero de compras realizadas usando el catálogo.\n",
        "* NumStorePurchases número de compras realizadas diractamente en tiendas\n",
        "* NumWebVisitsMonth número de visitas realizadas al sitio web.\n",
        "* AcceptedCmp3 1 si el cliente participó en la campaña 3 promocional.\n",
        "* AcceptedCmp4 1 si el cliente participó en la campaña 4 promocional.\n",
        "* AcceptedCmp5 1 si el cliente participó en la campaña 5 promocional.\n",
        "* AcceptedCmp1 1 si el cliente participó en la campaña 1 promocional.\n",
        "* AcceptedCmp2 1 si el cliente participó en la campaña 2 promocional.\n",
        "Complain 1 si el cliente ha presentado alguna queja en los últimos dos años.\n",
        "* Z_CostContact Costo Contacto\n",
        "* Z_Revenue Ingresos\n",
        "* Response"
      ],
      "metadata": {
        "id": "XpW-CfVl_839"
      }
    },
    {
      "cell_type": "markdown",
      "source": [
        "## Librerias:"
      ],
      "metadata": {
        "id": "S0rv39W_QG-L"
      }
    },
    {
      "cell_type": "code",
      "source": [
        "#importamos las librerias necearias para esta etapa\n",
        "import seaborn as sns\n",
        "import pandas as pd\n",
        "import missingno as msno\n",
        "import numpy \n",
        "import matplotlib.pyplot       as plt\n",
        "import matplotlib.pyplot       as plot\n",
        "\n",
        "\n",
        "import numpy as np\n",
        "%matplotlib inline\n",
        "from google.colab import drive\n",
        "import os\n",
        "from datetime import date\n",
        "\n"
      ],
      "metadata": {
        "id": "A5c4mmoTY-0c"
      },
      "execution_count": 65,
      "outputs": []
    },
    {
      "cell_type": "code",
      "source": [
        "!pip install sidetable"
      ],
      "metadata": {
        "colab": {
          "base_uri": "https://localhost:8080/"
        },
        "id": "1xQkK3Yzf0v-",
        "outputId": "f2a58a54-1ccd-4ca1-de1e-27889e9e03a5"
      },
      "execution_count": 66,
      "outputs": [
        {
          "output_type": "stream",
          "name": "stdout",
          "text": [
            "Looking in indexes: https://pypi.org/simple, https://us-python.pkg.dev/colab-wheels/public/simple/\n",
            "Requirement already satisfied: sidetable in /usr/local/lib/python3.10/dist-packages (0.9.1)\n",
            "Requirement already satisfied: pandas>=1.0 in /usr/local/lib/python3.10/dist-packages (from sidetable) (1.5.3)\n",
            "Requirement already satisfied: pytz>=2020.1 in /usr/local/lib/python3.10/dist-packages (from pandas>=1.0->sidetable) (2022.7.1)\n",
            "Requirement already satisfied: numpy>=1.21.0 in /usr/local/lib/python3.10/dist-packages (from pandas>=1.0->sidetable) (1.22.4)\n",
            "Requirement already satisfied: python-dateutil>=2.8.1 in /usr/local/lib/python3.10/dist-packages (from pandas>=1.0->sidetable) (2.8.2)\n",
            "Requirement already satisfied: six>=1.5 in /usr/local/lib/python3.10/dist-packages (from python-dateutil>=2.8.1->pandas>=1.0->sidetable) (1.16.0)\n"
          ]
        }
      ]
    },
    {
      "cell_type": "code",
      "source": [
        "#install library\n",
        "!pip install missingno"
      ],
      "metadata": {
        "colab": {
          "base_uri": "https://localhost:8080/"
        },
        "id": "GTuN7zd0ZZBm",
        "outputId": "4feb21d1-d83e-47bc-da93-77a8e32fd96d"
      },
      "execution_count": 67,
      "outputs": [
        {
          "output_type": "stream",
          "name": "stdout",
          "text": [
            "Looking in indexes: https://pypi.org/simple, https://us-python.pkg.dev/colab-wheels/public/simple/\n",
            "Requirement already satisfied: missingno in /usr/local/lib/python3.10/dist-packages (0.5.2)\n",
            "Requirement already satisfied: matplotlib in /usr/local/lib/python3.10/dist-packages (from missingno) (3.7.1)\n",
            "Requirement already satisfied: seaborn in /usr/local/lib/python3.10/dist-packages (from missingno) (0.12.2)\n",
            "Requirement already satisfied: numpy in /usr/local/lib/python3.10/dist-packages (from missingno) (1.22.4)\n",
            "Requirement already satisfied: scipy in /usr/local/lib/python3.10/dist-packages (from missingno) (1.10.1)\n",
            "Requirement already satisfied: contourpy>=1.0.1 in /usr/local/lib/python3.10/dist-packages (from matplotlib->missingno) (1.0.7)\n",
            "Requirement already satisfied: python-dateutil>=2.7 in /usr/local/lib/python3.10/dist-packages (from matplotlib->missingno) (2.8.2)\n",
            "Requirement already satisfied: cycler>=0.10 in /usr/local/lib/python3.10/dist-packages (from matplotlib->missingno) (0.11.0)\n",
            "Requirement already satisfied: packaging>=20.0 in /usr/local/lib/python3.10/dist-packages (from matplotlib->missingno) (23.1)\n",
            "Requirement already satisfied: pyparsing>=2.3.1 in /usr/local/lib/python3.10/dist-packages (from matplotlib->missingno) (3.0.9)\n",
            "Requirement already satisfied: pillow>=6.2.0 in /usr/local/lib/python3.10/dist-packages (from matplotlib->missingno) (8.4.0)\n",
            "Requirement already satisfied: fonttools>=4.22.0 in /usr/local/lib/python3.10/dist-packages (from matplotlib->missingno) (4.39.3)\n",
            "Requirement already satisfied: kiwisolver>=1.0.1 in /usr/local/lib/python3.10/dist-packages (from matplotlib->missingno) (1.4.4)\n",
            "Requirement already satisfied: pandas>=0.25 in /usr/local/lib/python3.10/dist-packages (from seaborn->missingno) (1.5.3)\n",
            "Requirement already satisfied: pytz>=2020.1 in /usr/local/lib/python3.10/dist-packages (from pandas>=0.25->seaborn->missingno) (2022.7.1)\n",
            "Requirement already satisfied: six>=1.5 in /usr/local/lib/python3.10/dist-packages (from python-dateutil>=2.7->matplotlib->missingno) (1.16.0)\n"
          ]
        }
      ]
    },
    {
      "cell_type": "code",
      "source": [
        "#leer CSV dentro de un DataFrame\n",
        "df=pd.read_csv('marketing_campaignLIMPIO.csv', sep=',')"
      ],
      "metadata": {
        "id": "5uO76BiWilXa"
      },
      "execution_count": 68,
      "outputs": []
    },
    {
      "cell_type": "code",
      "source": [
        "#numero de filas y columnas \n",
        "df.shape"
      ],
      "metadata": {
        "id": "-3AmAmbi_BAi",
        "colab": {
          "base_uri": "https://localhost:8080/"
        },
        "outputId": "77f03939-abd1-4ae7-e92a-e6710e0f8481"
      },
      "execution_count": 69,
      "outputs": [
        {
          "output_type": "execute_result",
          "data": {
            "text/plain": [
              "(2228, 31)"
            ]
          },
          "metadata": {},
          "execution_count": 69
        }
      ]
    },
    {
      "cell_type": "code",
      "source": [
        "#informacion del data set, nulos y tipos de datos \n",
        "df.info()"
      ],
      "metadata": {
        "id": "3Oh01aOz-NvZ",
        "colab": {
          "base_uri": "https://localhost:8080/"
        },
        "outputId": "fea9b289-89b8-431f-bcee-93222a2d103f"
      },
      "execution_count": 70,
      "outputs": [
        {
          "output_type": "stream",
          "name": "stdout",
          "text": [
            "<class 'pandas.core.frame.DataFrame'>\n",
            "RangeIndex: 2228 entries, 0 to 2227\n",
            "Data columns (total 31 columns):\n",
            " #   Column               Non-Null Count  Dtype  \n",
            "---  ------               --------------  -----  \n",
            " 0   Unnamed: 0           2228 non-null   int64  \n",
            " 1   Year_Birth           2228 non-null   int64  \n",
            " 2   Education            2228 non-null   object \n",
            " 3   Marital_Status       2228 non-null   object \n",
            " 4   Income               2228 non-null   float64\n",
            " 5   Kidhome              2228 non-null   int64  \n",
            " 6   Teenhome             2228 non-null   int64  \n",
            " 7   Dt_Customer          2228 non-null   object \n",
            " 8   Recency              2228 non-null   int64  \n",
            " 9   MntWines             2228 non-null   int64  \n",
            " 10  MntFruits            2228 non-null   int64  \n",
            " 11  MntMeatProducts      2228 non-null   int64  \n",
            " 12  MntFishProducts      2228 non-null   int64  \n",
            " 13  MntSweetProducts     2228 non-null   int64  \n",
            " 14  MntGoldProds         2228 non-null   int64  \n",
            " 15  NumDealsPurchases    2228 non-null   int64  \n",
            " 16  NumWebPurchases      2228 non-null   int64  \n",
            " 17  NumCatalogPurchases  2228 non-null   int64  \n",
            " 18  NumStorePurchases    2228 non-null   int64  \n",
            " 19  NumWebVisitsMonth    2228 non-null   int64  \n",
            " 20  AcceptedCmp3         2228 non-null   int64  \n",
            " 21  AcceptedCmp4         2228 non-null   int64  \n",
            " 22  AcceptedCmp5         2228 non-null   int64  \n",
            " 23  AcceptedCmp1         2228 non-null   int64  \n",
            " 24  AcceptedCmp2         2228 non-null   int64  \n",
            " 25  Complain             2228 non-null   int64  \n",
            " 26  Response             2228 non-null   int64  \n",
            " 27  EDAD                 2228 non-null   int64  \n",
            " 28  Etapa                2228 non-null   object \n",
            " 29  Mnt_total            2228 non-null   int64  \n",
            " 30  Hijos_totales        2228 non-null   int64  \n",
            "dtypes: float64(1), int64(26), object(4)\n",
            "memory usage: 539.7+ KB\n"
          ]
        }
      ]
    },
    {
      "cell_type": "code",
      "source": [
        "df= df.drop(['Dt_Customer'], axis=1)"
      ],
      "metadata": {
        "id": "lZVJiXD_qgkp"
      },
      "execution_count": 71,
      "outputs": []
    },
    {
      "cell_type": "code",
      "source": [
        "df=df.loc[:, ~df.columns.str.contains('^Unnamed')]"
      ],
      "metadata": {
        "id": "vVTbYoZiL67k"
      },
      "execution_count": 72,
      "outputs": []
    },
    {
      "cell_type": "code",
      "source": [
        "\n",
        "df= df.drop(['Year_Birth'], axis=1)\n",
        "df= df.drop(['MntWines'], axis=1)\n",
        "df= df.drop(['MntFruits'], axis=1)\n",
        "df= df.drop(['MntMeatProducts'], axis=1)\n",
        "df= df.drop(['MntFishProducts'], axis=1)\n",
        "df= df.drop(['MntSweetProducts'], axis=1)\n",
        "df= df.drop(['MntGoldProds'], axis=1)\n",
        "df= df.drop(['AcceptedCmp3'], axis=1)\n",
        "df= df.drop(['AcceptedCmp4'], axis=1)\n",
        "df= df.drop(['AcceptedCmp5'], axis=1)\n",
        "df= df.drop(['AcceptedCmp1'], axis=1)\n",
        "df= df.drop(['AcceptedCmp2'], axis=1)\n",
        "\n",
        "\n"
      ],
      "metadata": {
        "id": "EUh2GgMqk5WL"
      },
      "execution_count": 73,
      "outputs": []
    },
    {
      "cell_type": "code",
      "source": [
        "df.head()"
      ],
      "metadata": {
        "id": "RpX8cur86zdP",
        "colab": {
          "base_uri": "https://localhost:8080/",
          "height": 305
        },
        "outputId": "2a41c31d-288f-4ce6-d253-1dfd53ce2f1d"
      },
      "execution_count": 74,
      "outputs": [
        {
          "output_type": "execute_result",
          "data": {
            "text/plain": [
              "    Education Marital_Status   Income  Kidhome  Teenhome  Recency  \\\n",
              "0  Graduation         Single  58138.0        0         0       58   \n",
              "1  Graduation         Single  46344.0        1         1       38   \n",
              "2  Graduation       Together  71613.0        0         0       26   \n",
              "3  Graduation       Together  26646.0        1         0       26   \n",
              "4         PhD        Married  58293.0        1         0       94   \n",
              "\n",
              "   NumDealsPurchases  NumWebPurchases  NumCatalogPurchases  NumStorePurchases  \\\n",
              "0                  3                8                   10                  4   \n",
              "1                  2                1                    1                  2   \n",
              "2                  1                8                    2                 10   \n",
              "3                  2                2                    0                  4   \n",
              "4                  5                5                    3                  6   \n",
              "\n",
              "   NumWebVisitsMonth  Complain  Response  EDAD         Etapa  Mnt_total  \\\n",
              "0                  7         0         1    66  Adulto mayor       1617   \n",
              "1                  5         0         0    69  Adulto mayor         27   \n",
              "2                  4         0         0    58        Adulto        776   \n",
              "3                  6         0         0    39         joven         53   \n",
              "4                  5         0         0    42        Adulto        422   \n",
              "\n",
              "   Hijos_totales  \n",
              "0              0  \n",
              "1              2  \n",
              "2              0  \n",
              "3              2  \n",
              "4              2  "
            ],
            "text/html": [
              "\n",
              "  <div id=\"df-fa422844-e7ee-44ac-97bf-75b78552793c\">\n",
              "    <div class=\"colab-df-container\">\n",
              "      <div>\n",
              "<style scoped>\n",
              "    .dataframe tbody tr th:only-of-type {\n",
              "        vertical-align: middle;\n",
              "    }\n",
              "\n",
              "    .dataframe tbody tr th {\n",
              "        vertical-align: top;\n",
              "    }\n",
              "\n",
              "    .dataframe thead th {\n",
              "        text-align: right;\n",
              "    }\n",
              "</style>\n",
              "<table border=\"1\" class=\"dataframe\">\n",
              "  <thead>\n",
              "    <tr style=\"text-align: right;\">\n",
              "      <th></th>\n",
              "      <th>Education</th>\n",
              "      <th>Marital_Status</th>\n",
              "      <th>Income</th>\n",
              "      <th>Kidhome</th>\n",
              "      <th>Teenhome</th>\n",
              "      <th>Recency</th>\n",
              "      <th>NumDealsPurchases</th>\n",
              "      <th>NumWebPurchases</th>\n",
              "      <th>NumCatalogPurchases</th>\n",
              "      <th>NumStorePurchases</th>\n",
              "      <th>NumWebVisitsMonth</th>\n",
              "      <th>Complain</th>\n",
              "      <th>Response</th>\n",
              "      <th>EDAD</th>\n",
              "      <th>Etapa</th>\n",
              "      <th>Mnt_total</th>\n",
              "      <th>Hijos_totales</th>\n",
              "    </tr>\n",
              "  </thead>\n",
              "  <tbody>\n",
              "    <tr>\n",
              "      <th>0</th>\n",
              "      <td>Graduation</td>\n",
              "      <td>Single</td>\n",
              "      <td>58138.0</td>\n",
              "      <td>0</td>\n",
              "      <td>0</td>\n",
              "      <td>58</td>\n",
              "      <td>3</td>\n",
              "      <td>8</td>\n",
              "      <td>10</td>\n",
              "      <td>4</td>\n",
              "      <td>7</td>\n",
              "      <td>0</td>\n",
              "      <td>1</td>\n",
              "      <td>66</td>\n",
              "      <td>Adulto mayor</td>\n",
              "      <td>1617</td>\n",
              "      <td>0</td>\n",
              "    </tr>\n",
              "    <tr>\n",
              "      <th>1</th>\n",
              "      <td>Graduation</td>\n",
              "      <td>Single</td>\n",
              "      <td>46344.0</td>\n",
              "      <td>1</td>\n",
              "      <td>1</td>\n",
              "      <td>38</td>\n",
              "      <td>2</td>\n",
              "      <td>1</td>\n",
              "      <td>1</td>\n",
              "      <td>2</td>\n",
              "      <td>5</td>\n",
              "      <td>0</td>\n",
              "      <td>0</td>\n",
              "      <td>69</td>\n",
              "      <td>Adulto mayor</td>\n",
              "      <td>27</td>\n",
              "      <td>2</td>\n",
              "    </tr>\n",
              "    <tr>\n",
              "      <th>2</th>\n",
              "      <td>Graduation</td>\n",
              "      <td>Together</td>\n",
              "      <td>71613.0</td>\n",
              "      <td>0</td>\n",
              "      <td>0</td>\n",
              "      <td>26</td>\n",
              "      <td>1</td>\n",
              "      <td>8</td>\n",
              "      <td>2</td>\n",
              "      <td>10</td>\n",
              "      <td>4</td>\n",
              "      <td>0</td>\n",
              "      <td>0</td>\n",
              "      <td>58</td>\n",
              "      <td>Adulto</td>\n",
              "      <td>776</td>\n",
              "      <td>0</td>\n",
              "    </tr>\n",
              "    <tr>\n",
              "      <th>3</th>\n",
              "      <td>Graduation</td>\n",
              "      <td>Together</td>\n",
              "      <td>26646.0</td>\n",
              "      <td>1</td>\n",
              "      <td>0</td>\n",
              "      <td>26</td>\n",
              "      <td>2</td>\n",
              "      <td>2</td>\n",
              "      <td>0</td>\n",
              "      <td>4</td>\n",
              "      <td>6</td>\n",
              "      <td>0</td>\n",
              "      <td>0</td>\n",
              "      <td>39</td>\n",
              "      <td>joven</td>\n",
              "      <td>53</td>\n",
              "      <td>2</td>\n",
              "    </tr>\n",
              "    <tr>\n",
              "      <th>4</th>\n",
              "      <td>PhD</td>\n",
              "      <td>Married</td>\n",
              "      <td>58293.0</td>\n",
              "      <td>1</td>\n",
              "      <td>0</td>\n",
              "      <td>94</td>\n",
              "      <td>5</td>\n",
              "      <td>5</td>\n",
              "      <td>3</td>\n",
              "      <td>6</td>\n",
              "      <td>5</td>\n",
              "      <td>0</td>\n",
              "      <td>0</td>\n",
              "      <td>42</td>\n",
              "      <td>Adulto</td>\n",
              "      <td>422</td>\n",
              "      <td>2</td>\n",
              "    </tr>\n",
              "  </tbody>\n",
              "</table>\n",
              "</div>\n",
              "      <button class=\"colab-df-convert\" onclick=\"convertToInteractive('df-fa422844-e7ee-44ac-97bf-75b78552793c')\"\n",
              "              title=\"Convert this dataframe to an interactive table.\"\n",
              "              style=\"display:none;\">\n",
              "        \n",
              "  <svg xmlns=\"http://www.w3.org/2000/svg\" height=\"24px\"viewBox=\"0 0 24 24\"\n",
              "       width=\"24px\">\n",
              "    <path d=\"M0 0h24v24H0V0z\" fill=\"none\"/>\n",
              "    <path d=\"M18.56 5.44l.94 2.06.94-2.06 2.06-.94-2.06-.94-.94-2.06-.94 2.06-2.06.94zm-11 1L8.5 8.5l.94-2.06 2.06-.94-2.06-.94L8.5 2.5l-.94 2.06-2.06.94zm10 10l.94 2.06.94-2.06 2.06-.94-2.06-.94-.94-2.06-.94 2.06-2.06.94z\"/><path d=\"M17.41 7.96l-1.37-1.37c-.4-.4-.92-.59-1.43-.59-.52 0-1.04.2-1.43.59L10.3 9.45l-7.72 7.72c-.78.78-.78 2.05 0 2.83L4 21.41c.39.39.9.59 1.41.59.51 0 1.02-.2 1.41-.59l7.78-7.78 2.81-2.81c.8-.78.8-2.07 0-2.86zM5.41 20L4 18.59l7.72-7.72 1.47 1.35L5.41 20z\"/>\n",
              "  </svg>\n",
              "      </button>\n",
              "      \n",
              "  <style>\n",
              "    .colab-df-container {\n",
              "      display:flex;\n",
              "      flex-wrap:wrap;\n",
              "      gap: 12px;\n",
              "    }\n",
              "\n",
              "    .colab-df-convert {\n",
              "      background-color: #E8F0FE;\n",
              "      border: none;\n",
              "      border-radius: 50%;\n",
              "      cursor: pointer;\n",
              "      display: none;\n",
              "      fill: #1967D2;\n",
              "      height: 32px;\n",
              "      padding: 0 0 0 0;\n",
              "      width: 32px;\n",
              "    }\n",
              "\n",
              "    .colab-df-convert:hover {\n",
              "      background-color: #E2EBFA;\n",
              "      box-shadow: 0px 1px 2px rgba(60, 64, 67, 0.3), 0px 1px 3px 1px rgba(60, 64, 67, 0.15);\n",
              "      fill: #174EA6;\n",
              "    }\n",
              "\n",
              "    [theme=dark] .colab-df-convert {\n",
              "      background-color: #3B4455;\n",
              "      fill: #D2E3FC;\n",
              "    }\n",
              "\n",
              "    [theme=dark] .colab-df-convert:hover {\n",
              "      background-color: #434B5C;\n",
              "      box-shadow: 0px 1px 3px 1px rgba(0, 0, 0, 0.15);\n",
              "      filter: drop-shadow(0px 1px 2px rgba(0, 0, 0, 0.3));\n",
              "      fill: #FFFFFF;\n",
              "    }\n",
              "  </style>\n",
              "\n",
              "      <script>\n",
              "        const buttonEl =\n",
              "          document.querySelector('#df-fa422844-e7ee-44ac-97bf-75b78552793c button.colab-df-convert');\n",
              "        buttonEl.style.display =\n",
              "          google.colab.kernel.accessAllowed ? 'block' : 'none';\n",
              "\n",
              "        async function convertToInteractive(key) {\n",
              "          const element = document.querySelector('#df-fa422844-e7ee-44ac-97bf-75b78552793c');\n",
              "          const dataTable =\n",
              "            await google.colab.kernel.invokeFunction('convertToInteractive',\n",
              "                                                     [key], {});\n",
              "          if (!dataTable) return;\n",
              "\n",
              "          const docLinkHtml = 'Like what you see? Visit the ' +\n",
              "            '<a target=\"_blank\" href=https://colab.research.google.com/notebooks/data_table.ipynb>data table notebook</a>'\n",
              "            + ' to learn more about interactive tables.';\n",
              "          element.innerHTML = '';\n",
              "          dataTable['output_type'] = 'display_data';\n",
              "          await google.colab.output.renderOutput(dataTable, element);\n",
              "          const docLink = document.createElement('div');\n",
              "          docLink.innerHTML = docLinkHtml;\n",
              "          element.appendChild(docLink);\n",
              "        }\n",
              "      </script>\n",
              "    </div>\n",
              "  </div>\n",
              "  "
            ]
          },
          "metadata": {},
          "execution_count": 74
        }
      ]
    },
    {
      "cell_type": "markdown",
      "source": [
        "## MACHINE LEARNING"
      ],
      "metadata": {
        "id": "YRgpJ6C0JN5d"
      }
    },
    {
      "cell_type": "code",
      "source": [
        "df.reset_index (drop = True , inplace = True )"
      ],
      "metadata": {
        "id": "XbBmxiclhQ1c"
      },
      "execution_count": 75,
      "outputs": []
    },
    {
      "cell_type": "code",
      "source": [
        "df2=df"
      ],
      "metadata": {
        "id": "6B2LHvBXItmB"
      },
      "execution_count": 76,
      "outputs": []
    },
    {
      "cell_type": "code",
      "source": [
        "from sklearn.metrics import mean_absolute_error, mean_absolute_percentage_error, mean_squared_error, r2_score"
      ],
      "metadata": {
        "id": "-NHS_FcAi04_"
      },
      "execution_count": 77,
      "outputs": []
    },
    {
      "cell_type": "code",
      "source": [
        "from sklearn.pipeline import Pipeline # generador de pipeline de trabajao\n",
        "from sklearn.preprocessing import RobustScaler , OneHotEncoder #encoder para trasnformar columnas\n",
        "from sklearn.model_selection import train_test_split # split de train y test\n",
        "from sklearn.compose import ColumnTransformer #code to use feature cat and numeric together\n",
        "from sklearn.impute import SimpleImputer # fill a value\n",
        "from sklearn.compose import make_column_selector #selector in pipeline by dtypes\n",
        "import numpy as np #numpy , library to calculate\n",
        "\n",
        "#split in target \n",
        "X = df2.drop('Mnt_total', axis=1)\n",
        "y = df2['Mnt_total']\n",
        "\n",
        "#split to 20% test\n",
        "X_train , X_test , y_train, y_test = train_test_split(X, y , test_size = 0.2, random_state=42)"
      ],
      "metadata": {
        "id": "sZqFLoir9eb0"
      },
      "execution_count": 78,
      "outputs": []
    },
    {
      "cell_type": "code",
      "source": [
        "y_train.head()"
      ],
      "metadata": {
        "id": "SbzFK3oWJeRt",
        "colab": {
          "base_uri": "https://localhost:8080/"
        },
        "outputId": "2e7313a8-663e-4594-c723-474e97bc2c48"
      },
      "execution_count": 79,
      "outputs": [
        {
          "output_type": "execute_result",
          "data": {
            "text/plain": [
              "507      137\n",
              "1043    1123\n",
              "205       53\n",
              "916       46\n",
              "2205      52\n",
              "Name: Mnt_total, dtype: int64"
            ]
          },
          "metadata": {},
          "execution_count": 79
        }
      ]
    },
    {
      "cell_type": "markdown",
      "source": [
        "**PCA**"
      ],
      "metadata": {
        "id": "wOj_Mg8osKcP"
      }
    },
    {
      "cell_type": "code",
      "source": [
        "from sklearn.model_selection import train_test_split\n",
        "from sklearn.preprocessing import StandardScaler, RobustScaler\n",
        "from scipy import stats"
      ],
      "metadata": {
        "id": "rjz8v_gZsTXz"
      },
      "execution_count": 80,
      "outputs": []
    },
    {
      "cell_type": "code",
      "source": [
        "#generar a pipeline para numericas \n",
        "numeric_transformer = Pipeline(\n",
        "    steps=[('fill', SimpleImputer()), \n",
        "           (\"scaler\", RobustScaler())])\n",
        "\n",
        "#generar un pipeline para categoricas\n",
        "categorical_transformer = OneHotEncoder(drop='first', handle_unknown=\"ignore\")\n",
        "\n",
        "#funcion que realiza el trabajo para cada pipeline y luego unirlo\n",
        "preprocessor = ColumnTransformer(\n",
        "    transformers=[\n",
        "        (\"num\", numeric_transformer, make_column_selector(dtype_exclude=object)),\n",
        "        (\"cat\", categorical_transformer, make_column_selector(dtype_include = object)),\n",
        "    ]\n",
        ")\n",
        "\n",
        "#entrenamiento del pipeline\n",
        "preprocessor.fit(X_train)"
      ],
      "metadata": {
        "colab": {
          "base_uri": "https://localhost:8080/",
          "height": 151
        },
        "id": "9HIy5tqTtbaP",
        "outputId": "7c2a4d7f-5fb7-4723-dd6f-42729a900028"
      },
      "execution_count": 81,
      "outputs": [
        {
          "output_type": "execute_result",
          "data": {
            "text/plain": [
              "ColumnTransformer(transformers=[('num',\n",
              "                                 Pipeline(steps=[('fill', SimpleImputer()),\n",
              "                                                 ('scaler', RobustScaler())]),\n",
              "                                 <sklearn.compose._column_transformer.make_column_selector object at 0x7fcad8d7e170>),\n",
              "                                ('cat',\n",
              "                                 OneHotEncoder(drop='first',\n",
              "                                               handle_unknown='ignore'),\n",
              "                                 <sklearn.compose._column_transformer.make_column_selector object at 0x7fcad8d7db10>)])"
            ],
            "text/html": [
              "<style>#sk-container-id-3 {color: black;background-color: white;}#sk-container-id-3 pre{padding: 0;}#sk-container-id-3 div.sk-toggleable {background-color: white;}#sk-container-id-3 label.sk-toggleable__label {cursor: pointer;display: block;width: 100%;margin-bottom: 0;padding: 0.3em;box-sizing: border-box;text-align: center;}#sk-container-id-3 label.sk-toggleable__label-arrow:before {content: \"▸\";float: left;margin-right: 0.25em;color: #696969;}#sk-container-id-3 label.sk-toggleable__label-arrow:hover:before {color: black;}#sk-container-id-3 div.sk-estimator:hover label.sk-toggleable__label-arrow:before {color: black;}#sk-container-id-3 div.sk-toggleable__content {max-height: 0;max-width: 0;overflow: hidden;text-align: left;background-color: #f0f8ff;}#sk-container-id-3 div.sk-toggleable__content pre {margin: 0.2em;color: black;border-radius: 0.25em;background-color: #f0f8ff;}#sk-container-id-3 input.sk-toggleable__control:checked~div.sk-toggleable__content {max-height: 200px;max-width: 100%;overflow: auto;}#sk-container-id-3 input.sk-toggleable__control:checked~label.sk-toggleable__label-arrow:before {content: \"▾\";}#sk-container-id-3 div.sk-estimator input.sk-toggleable__control:checked~label.sk-toggleable__label {background-color: #d4ebff;}#sk-container-id-3 div.sk-label input.sk-toggleable__control:checked~label.sk-toggleable__label {background-color: #d4ebff;}#sk-container-id-3 input.sk-hidden--visually {border: 0;clip: rect(1px 1px 1px 1px);clip: rect(1px, 1px, 1px, 1px);height: 1px;margin: -1px;overflow: hidden;padding: 0;position: absolute;width: 1px;}#sk-container-id-3 div.sk-estimator {font-family: monospace;background-color: #f0f8ff;border: 1px dotted black;border-radius: 0.25em;box-sizing: border-box;margin-bottom: 0.5em;}#sk-container-id-3 div.sk-estimator:hover {background-color: #d4ebff;}#sk-container-id-3 div.sk-parallel-item::after {content: \"\";width: 100%;border-bottom: 1px solid gray;flex-grow: 1;}#sk-container-id-3 div.sk-label:hover label.sk-toggleable__label {background-color: #d4ebff;}#sk-container-id-3 div.sk-serial::before {content: \"\";position: absolute;border-left: 1px solid gray;box-sizing: border-box;top: 0;bottom: 0;left: 50%;z-index: 0;}#sk-container-id-3 div.sk-serial {display: flex;flex-direction: column;align-items: center;background-color: white;padding-right: 0.2em;padding-left: 0.2em;position: relative;}#sk-container-id-3 div.sk-item {position: relative;z-index: 1;}#sk-container-id-3 div.sk-parallel {display: flex;align-items: stretch;justify-content: center;background-color: white;position: relative;}#sk-container-id-3 div.sk-item::before, #sk-container-id-3 div.sk-parallel-item::before {content: \"\";position: absolute;border-left: 1px solid gray;box-sizing: border-box;top: 0;bottom: 0;left: 50%;z-index: -1;}#sk-container-id-3 div.sk-parallel-item {display: flex;flex-direction: column;z-index: 1;position: relative;background-color: white;}#sk-container-id-3 div.sk-parallel-item:first-child::after {align-self: flex-end;width: 50%;}#sk-container-id-3 div.sk-parallel-item:last-child::after {align-self: flex-start;width: 50%;}#sk-container-id-3 div.sk-parallel-item:only-child::after {width: 0;}#sk-container-id-3 div.sk-dashed-wrapped {border: 1px dashed gray;margin: 0 0.4em 0.5em 0.4em;box-sizing: border-box;padding-bottom: 0.4em;background-color: white;}#sk-container-id-3 div.sk-label label {font-family: monospace;font-weight: bold;display: inline-block;line-height: 1.2em;}#sk-container-id-3 div.sk-label-container {text-align: center;}#sk-container-id-3 div.sk-container {/* jupyter's `normalize.less` sets `[hidden] { display: none; }` but bootstrap.min.css set `[hidden] { display: none !important; }` so we also need the `!important` here to be able to override the default hidden behavior on the sphinx rendered scikit-learn.org. See: https://github.com/scikit-learn/scikit-learn/issues/21755 */display: inline-block !important;position: relative;}#sk-container-id-3 div.sk-text-repr-fallback {display: none;}</style><div id=\"sk-container-id-3\" class=\"sk-top-container\"><div class=\"sk-text-repr-fallback\"><pre>ColumnTransformer(transformers=[(&#x27;num&#x27;,\n",
              "                                 Pipeline(steps=[(&#x27;fill&#x27;, SimpleImputer()),\n",
              "                                                 (&#x27;scaler&#x27;, RobustScaler())]),\n",
              "                                 &lt;sklearn.compose._column_transformer.make_column_selector object at 0x7fcad8d7e170&gt;),\n",
              "                                (&#x27;cat&#x27;,\n",
              "                                 OneHotEncoder(drop=&#x27;first&#x27;,\n",
              "                                               handle_unknown=&#x27;ignore&#x27;),\n",
              "                                 &lt;sklearn.compose._column_transformer.make_column_selector object at 0x7fcad8d7db10&gt;)])</pre><b>In a Jupyter environment, please rerun this cell to show the HTML representation or trust the notebook. <br />On GitHub, the HTML representation is unable to render, please try loading this page with nbviewer.org.</b></div><div class=\"sk-container\" hidden><div class=\"sk-item sk-dashed-wrapped\"><div class=\"sk-label-container\"><div class=\"sk-label sk-toggleable\"><input class=\"sk-toggleable__control sk-hidden--visually\" id=\"sk-estimator-id-8\" type=\"checkbox\" ><label for=\"sk-estimator-id-8\" class=\"sk-toggleable__label sk-toggleable__label-arrow\">ColumnTransformer</label><div class=\"sk-toggleable__content\"><pre>ColumnTransformer(transformers=[(&#x27;num&#x27;,\n",
              "                                 Pipeline(steps=[(&#x27;fill&#x27;, SimpleImputer()),\n",
              "                                                 (&#x27;scaler&#x27;, RobustScaler())]),\n",
              "                                 &lt;sklearn.compose._column_transformer.make_column_selector object at 0x7fcad8d7e170&gt;),\n",
              "                                (&#x27;cat&#x27;,\n",
              "                                 OneHotEncoder(drop=&#x27;first&#x27;,\n",
              "                                               handle_unknown=&#x27;ignore&#x27;),\n",
              "                                 &lt;sklearn.compose._column_transformer.make_column_selector object at 0x7fcad8d7db10&gt;)])</pre></div></div></div><div class=\"sk-parallel\"><div class=\"sk-parallel-item\"><div class=\"sk-item\"><div class=\"sk-label-container\"><div class=\"sk-label sk-toggleable\"><input class=\"sk-toggleable__control sk-hidden--visually\" id=\"sk-estimator-id-9\" type=\"checkbox\" ><label for=\"sk-estimator-id-9\" class=\"sk-toggleable__label sk-toggleable__label-arrow\">num</label><div class=\"sk-toggleable__content\"><pre>&lt;sklearn.compose._column_transformer.make_column_selector object at 0x7fcad8d7e170&gt;</pre></div></div></div><div class=\"sk-serial\"><div class=\"sk-item\"><div class=\"sk-serial\"><div class=\"sk-item\"><div class=\"sk-estimator sk-toggleable\"><input class=\"sk-toggleable__control sk-hidden--visually\" id=\"sk-estimator-id-10\" type=\"checkbox\" ><label for=\"sk-estimator-id-10\" class=\"sk-toggleable__label sk-toggleable__label-arrow\">SimpleImputer</label><div class=\"sk-toggleable__content\"><pre>SimpleImputer()</pre></div></div></div><div class=\"sk-item\"><div class=\"sk-estimator sk-toggleable\"><input class=\"sk-toggleable__control sk-hidden--visually\" id=\"sk-estimator-id-11\" type=\"checkbox\" ><label for=\"sk-estimator-id-11\" class=\"sk-toggleable__label sk-toggleable__label-arrow\">RobustScaler</label><div class=\"sk-toggleable__content\"><pre>RobustScaler()</pre></div></div></div></div></div></div></div></div><div class=\"sk-parallel-item\"><div class=\"sk-item\"><div class=\"sk-label-container\"><div class=\"sk-label sk-toggleable\"><input class=\"sk-toggleable__control sk-hidden--visually\" id=\"sk-estimator-id-12\" type=\"checkbox\" ><label for=\"sk-estimator-id-12\" class=\"sk-toggleable__label sk-toggleable__label-arrow\">cat</label><div class=\"sk-toggleable__content\"><pre>&lt;sklearn.compose._column_transformer.make_column_selector object at 0x7fcad8d7db10&gt;</pre></div></div></div><div class=\"sk-serial\"><div class=\"sk-item\"><div class=\"sk-estimator sk-toggleable\"><input class=\"sk-toggleable__control sk-hidden--visually\" id=\"sk-estimator-id-13\" type=\"checkbox\" ><label for=\"sk-estimator-id-13\" class=\"sk-toggleable__label sk-toggleable__label-arrow\">OneHotEncoder</label><div class=\"sk-toggleable__content\"><pre>OneHotEncoder(drop=&#x27;first&#x27;, handle_unknown=&#x27;ignore&#x27;)</pre></div></div></div></div></div></div></div></div></div></div>"
            ]
          },
          "metadata": {},
          "execution_count": 81
        }
      ]
    },
    {
      "cell_type": "code",
      "source": [
        "#trasnformacion de X_train \n",
        "X_array_enc = preprocessor.transform(X_train)\n",
        "X_array_enc"
      ],
      "metadata": {
        "colab": {
          "base_uri": "https://localhost:8080/"
        },
        "id": "cadVBkT3wGws",
        "outputId": "b5347f35-1d35-45dd-837a-519badd1be8e"
      },
      "execution_count": 82,
      "outputs": [
        {
          "output_type": "execute_result",
          "data": {
            "text/plain": [
              "array([[-0.51064054,  0.        ,  0.        , ...,  0.        ,\n",
              "         0.        ,  1.        ],\n",
              "       [ 0.75441509,  0.        ,  1.        , ...,  0.        ,\n",
              "         1.        ,  0.        ],\n",
              "       [-0.67082322,  1.        ,  0.        , ...,  0.        ,\n",
              "         0.        ,  1.        ],\n",
              "       ...,\n",
              "       [ 0.63019914,  0.        ,  0.        , ...,  0.        ,\n",
              "         0.        ,  1.        ],\n",
              "       [ 0.80044771,  0.        ,  0.        , ...,  0.        ,\n",
              "         1.        ,  0.        ],\n",
              "       [-0.07257949,  1.        ,  0.        , ...,  0.        ,\n",
              "         0.        ,  0.        ]])"
            ]
          },
          "metadata": {},
          "execution_count": 82
        }
      ]
    },
    {
      "cell_type": "code",
      "source": [
        "X_train.select_dtypes(exclude='object').columns"
      ],
      "metadata": {
        "colab": {
          "base_uri": "https://localhost:8080/"
        },
        "id": "bg8SSNGxw0KU",
        "outputId": "65c034c4-6637-4c6f-eccc-7e87e57c85da"
      },
      "execution_count": 83,
      "outputs": [
        {
          "output_type": "execute_result",
          "data": {
            "text/plain": [
              "Index(['Income', 'Kidhome', 'Teenhome', 'Recency', 'NumDealsPurchases',\n",
              "       'NumWebPurchases', 'NumCatalogPurchases', 'NumStorePurchases',\n",
              "       'NumWebVisitsMonth', 'Complain', 'Response', 'EDAD', 'Hijos_totales'],\n",
              "      dtype='object')"
            ]
          },
          "metadata": {},
          "execution_count": 83
        }
      ]
    },
    {
      "cell_type": "code",
      "source": [
        "preprocessor.named_transformers_['cat'].get_feature_names_out()"
      ],
      "metadata": {
        "colab": {
          "base_uri": "https://localhost:8080/"
        },
        "id": "FxToI03iw296",
        "outputId": "7a71a28e-19ad-4ee4-eb3b-57d1509160c2"
      },
      "execution_count": 84,
      "outputs": [
        {
          "output_type": "execute_result",
          "data": {
            "text/plain": [
              "array(['Education_Basic', 'Education_Graduation', 'Education_Master',\n",
              "       'Education_PhD', 'Marital_Status_Married', 'Marital_Status_Single',\n",
              "       'Marital_Status_Together', 'Marital_Status_Widow',\n",
              "       'Etapa_Adulto mayor', 'Etapa_joven'], dtype=object)"
            ]
          },
          "metadata": {},
          "execution_count": 84
        }
      ]
    },
    {
      "cell_type": "code",
      "source": [
        "columns_enc = np.append(X_train.select_dtypes(exclude='object').columns, preprocessor.named_transformers_['cat'].get_feature_names_out())\n",
        "columns_enc"
      ],
      "metadata": {
        "colab": {
          "base_uri": "https://localhost:8080/"
        },
        "id": "MO6ASKwLw6Fb",
        "outputId": "5cb73e2b-259c-4787-8812-b79d173d1836"
      },
      "execution_count": 85,
      "outputs": [
        {
          "output_type": "execute_result",
          "data": {
            "text/plain": [
              "array(['Income', 'Kidhome', 'Teenhome', 'Recency', 'NumDealsPurchases',\n",
              "       'NumWebPurchases', 'NumCatalogPurchases', 'NumStorePurchases',\n",
              "       'NumWebVisitsMonth', 'Complain', 'Response', 'EDAD',\n",
              "       'Hijos_totales', 'Education_Basic', 'Education_Graduation',\n",
              "       'Education_Master', 'Education_PhD', 'Marital_Status_Married',\n",
              "       'Marital_Status_Single', 'Marital_Status_Together',\n",
              "       'Marital_Status_Widow', 'Etapa_Adulto mayor', 'Etapa_joven'],\n",
              "      dtype=object)"
            ]
          },
          "metadata": {},
          "execution_count": 85
        }
      ]
    },
    {
      "cell_type": "code",
      "source": [
        "columns_enc = np.append(X_train.select_dtypes(exclude='object').columns, preprocessor.named_transformers_['cat'].get_feature_names_out())\n",
        "X_train_enc = pd.DataFrame(X_array_enc, columns = columns_enc)\n",
        "X_train_enc.head()"
      ],
      "metadata": {
        "colab": {
          "base_uri": "https://localhost:8080/",
          "height": 317
        },
        "id": "YXtJuIuUw-Wg",
        "outputId": "b91fb870-51f8-4a26-d048-454519dcfacd"
      },
      "execution_count": 86,
      "outputs": [
        {
          "output_type": "execute_result",
          "data": {
            "text/plain": [
              "     Income  Kidhome  Teenhome  Recency  NumDealsPurchases  NumWebPurchases  \\\n",
              "0 -0.510641      0.0       0.0     0.44               -0.5            -0.50   \n",
              "1  0.754415      0.0       1.0    -0.92               -0.5             0.75   \n",
              "2 -0.670823      1.0       0.0     0.78               -0.5            -0.75   \n",
              "3 -0.177715      1.0       1.0    -0.48               -0.5            -0.75   \n",
              "4 -0.706189      1.0       0.0     0.36                0.0            -0.50   \n",
              "\n",
              "   NumCatalogPurchases  NumStorePurchases  NumWebVisitsMonth  Complain  ...  \\\n",
              "0                -0.25               -0.2               0.25       0.0  ...   \n",
              "1                 1.25                1.4              -0.75       0.0  ...   \n",
              "2                -0.50               -0.4               0.75       0.0  ...   \n",
              "3                -0.50               -0.4               0.25       0.0  ...   \n",
              "4                -0.50               -0.4               0.50       0.0  ...   \n",
              "\n",
              "   Education_Basic  Education_Graduation  Education_Master  Education_PhD  \\\n",
              "0              0.0                   1.0               0.0            0.0   \n",
              "1              0.0                   0.0               0.0            1.0   \n",
              "2              0.0                   1.0               0.0            0.0   \n",
              "3              0.0                   0.0               0.0            1.0   \n",
              "4              0.0                   1.0               0.0            0.0   \n",
              "\n",
              "   Marital_Status_Married  Marital_Status_Single  Marital_Status_Together  \\\n",
              "0                     1.0                    0.0                      0.0   \n",
              "1                     1.0                    0.0                      0.0   \n",
              "2                     0.0                    0.0                      1.0   \n",
              "3                     0.0                    0.0                      1.0   \n",
              "4                     0.0                    0.0                      1.0   \n",
              "\n",
              "   Marital_Status_Widow  Etapa_Adulto mayor  Etapa_joven  \n",
              "0                   0.0                 0.0          1.0  \n",
              "1                   0.0                 1.0          0.0  \n",
              "2                   0.0                 0.0          1.0  \n",
              "3                   0.0                 1.0          0.0  \n",
              "4                   0.0                 0.0          1.0  \n",
              "\n",
              "[5 rows x 23 columns]"
            ],
            "text/html": [
              "\n",
              "  <div id=\"df-9023b77a-debc-4ee0-938c-3b51e138059f\">\n",
              "    <div class=\"colab-df-container\">\n",
              "      <div>\n",
              "<style scoped>\n",
              "    .dataframe tbody tr th:only-of-type {\n",
              "        vertical-align: middle;\n",
              "    }\n",
              "\n",
              "    .dataframe tbody tr th {\n",
              "        vertical-align: top;\n",
              "    }\n",
              "\n",
              "    .dataframe thead th {\n",
              "        text-align: right;\n",
              "    }\n",
              "</style>\n",
              "<table border=\"1\" class=\"dataframe\">\n",
              "  <thead>\n",
              "    <tr style=\"text-align: right;\">\n",
              "      <th></th>\n",
              "      <th>Income</th>\n",
              "      <th>Kidhome</th>\n",
              "      <th>Teenhome</th>\n",
              "      <th>Recency</th>\n",
              "      <th>NumDealsPurchases</th>\n",
              "      <th>NumWebPurchases</th>\n",
              "      <th>NumCatalogPurchases</th>\n",
              "      <th>NumStorePurchases</th>\n",
              "      <th>NumWebVisitsMonth</th>\n",
              "      <th>Complain</th>\n",
              "      <th>...</th>\n",
              "      <th>Education_Basic</th>\n",
              "      <th>Education_Graduation</th>\n",
              "      <th>Education_Master</th>\n",
              "      <th>Education_PhD</th>\n",
              "      <th>Marital_Status_Married</th>\n",
              "      <th>Marital_Status_Single</th>\n",
              "      <th>Marital_Status_Together</th>\n",
              "      <th>Marital_Status_Widow</th>\n",
              "      <th>Etapa_Adulto mayor</th>\n",
              "      <th>Etapa_joven</th>\n",
              "    </tr>\n",
              "  </thead>\n",
              "  <tbody>\n",
              "    <tr>\n",
              "      <th>0</th>\n",
              "      <td>-0.510641</td>\n",
              "      <td>0.0</td>\n",
              "      <td>0.0</td>\n",
              "      <td>0.44</td>\n",
              "      <td>-0.5</td>\n",
              "      <td>-0.50</td>\n",
              "      <td>-0.25</td>\n",
              "      <td>-0.2</td>\n",
              "      <td>0.25</td>\n",
              "      <td>0.0</td>\n",
              "      <td>...</td>\n",
              "      <td>0.0</td>\n",
              "      <td>1.0</td>\n",
              "      <td>0.0</td>\n",
              "      <td>0.0</td>\n",
              "      <td>1.0</td>\n",
              "      <td>0.0</td>\n",
              "      <td>0.0</td>\n",
              "      <td>0.0</td>\n",
              "      <td>0.0</td>\n",
              "      <td>1.0</td>\n",
              "    </tr>\n",
              "    <tr>\n",
              "      <th>1</th>\n",
              "      <td>0.754415</td>\n",
              "      <td>0.0</td>\n",
              "      <td>1.0</td>\n",
              "      <td>-0.92</td>\n",
              "      <td>-0.5</td>\n",
              "      <td>0.75</td>\n",
              "      <td>1.25</td>\n",
              "      <td>1.4</td>\n",
              "      <td>-0.75</td>\n",
              "      <td>0.0</td>\n",
              "      <td>...</td>\n",
              "      <td>0.0</td>\n",
              "      <td>0.0</td>\n",
              "      <td>0.0</td>\n",
              "      <td>1.0</td>\n",
              "      <td>1.0</td>\n",
              "      <td>0.0</td>\n",
              "      <td>0.0</td>\n",
              "      <td>0.0</td>\n",
              "      <td>1.0</td>\n",
              "      <td>0.0</td>\n",
              "    </tr>\n",
              "    <tr>\n",
              "      <th>2</th>\n",
              "      <td>-0.670823</td>\n",
              "      <td>1.0</td>\n",
              "      <td>0.0</td>\n",
              "      <td>0.78</td>\n",
              "      <td>-0.5</td>\n",
              "      <td>-0.75</td>\n",
              "      <td>-0.50</td>\n",
              "      <td>-0.4</td>\n",
              "      <td>0.75</td>\n",
              "      <td>0.0</td>\n",
              "      <td>...</td>\n",
              "      <td>0.0</td>\n",
              "      <td>1.0</td>\n",
              "      <td>0.0</td>\n",
              "      <td>0.0</td>\n",
              "      <td>0.0</td>\n",
              "      <td>0.0</td>\n",
              "      <td>1.0</td>\n",
              "      <td>0.0</td>\n",
              "      <td>0.0</td>\n",
              "      <td>1.0</td>\n",
              "    </tr>\n",
              "    <tr>\n",
              "      <th>3</th>\n",
              "      <td>-0.177715</td>\n",
              "      <td>1.0</td>\n",
              "      <td>1.0</td>\n",
              "      <td>-0.48</td>\n",
              "      <td>-0.5</td>\n",
              "      <td>-0.75</td>\n",
              "      <td>-0.50</td>\n",
              "      <td>-0.4</td>\n",
              "      <td>0.25</td>\n",
              "      <td>0.0</td>\n",
              "      <td>...</td>\n",
              "      <td>0.0</td>\n",
              "      <td>0.0</td>\n",
              "      <td>0.0</td>\n",
              "      <td>1.0</td>\n",
              "      <td>0.0</td>\n",
              "      <td>0.0</td>\n",
              "      <td>1.0</td>\n",
              "      <td>0.0</td>\n",
              "      <td>1.0</td>\n",
              "      <td>0.0</td>\n",
              "    </tr>\n",
              "    <tr>\n",
              "      <th>4</th>\n",
              "      <td>-0.706189</td>\n",
              "      <td>1.0</td>\n",
              "      <td>0.0</td>\n",
              "      <td>0.36</td>\n",
              "      <td>0.0</td>\n",
              "      <td>-0.50</td>\n",
              "      <td>-0.50</td>\n",
              "      <td>-0.4</td>\n",
              "      <td>0.50</td>\n",
              "      <td>0.0</td>\n",
              "      <td>...</td>\n",
              "      <td>0.0</td>\n",
              "      <td>1.0</td>\n",
              "      <td>0.0</td>\n",
              "      <td>0.0</td>\n",
              "      <td>0.0</td>\n",
              "      <td>0.0</td>\n",
              "      <td>1.0</td>\n",
              "      <td>0.0</td>\n",
              "      <td>0.0</td>\n",
              "      <td>1.0</td>\n",
              "    </tr>\n",
              "  </tbody>\n",
              "</table>\n",
              "<p>5 rows × 23 columns</p>\n",
              "</div>\n",
              "      <button class=\"colab-df-convert\" onclick=\"convertToInteractive('df-9023b77a-debc-4ee0-938c-3b51e138059f')\"\n",
              "              title=\"Convert this dataframe to an interactive table.\"\n",
              "              style=\"display:none;\">\n",
              "        \n",
              "  <svg xmlns=\"http://www.w3.org/2000/svg\" height=\"24px\"viewBox=\"0 0 24 24\"\n",
              "       width=\"24px\">\n",
              "    <path d=\"M0 0h24v24H0V0z\" fill=\"none\"/>\n",
              "    <path d=\"M18.56 5.44l.94 2.06.94-2.06 2.06-.94-2.06-.94-.94-2.06-.94 2.06-2.06.94zm-11 1L8.5 8.5l.94-2.06 2.06-.94-2.06-.94L8.5 2.5l-.94 2.06-2.06.94zm10 10l.94 2.06.94-2.06 2.06-.94-2.06-.94-.94-2.06-.94 2.06-2.06.94z\"/><path d=\"M17.41 7.96l-1.37-1.37c-.4-.4-.92-.59-1.43-.59-.52 0-1.04.2-1.43.59L10.3 9.45l-7.72 7.72c-.78.78-.78 2.05 0 2.83L4 21.41c.39.39.9.59 1.41.59.51 0 1.02-.2 1.41-.59l7.78-7.78 2.81-2.81c.8-.78.8-2.07 0-2.86zM5.41 20L4 18.59l7.72-7.72 1.47 1.35L5.41 20z\"/>\n",
              "  </svg>\n",
              "      </button>\n",
              "      \n",
              "  <style>\n",
              "    .colab-df-container {\n",
              "      display:flex;\n",
              "      flex-wrap:wrap;\n",
              "      gap: 12px;\n",
              "    }\n",
              "\n",
              "    .colab-df-convert {\n",
              "      background-color: #E8F0FE;\n",
              "      border: none;\n",
              "      border-radius: 50%;\n",
              "      cursor: pointer;\n",
              "      display: none;\n",
              "      fill: #1967D2;\n",
              "      height: 32px;\n",
              "      padding: 0 0 0 0;\n",
              "      width: 32px;\n",
              "    }\n",
              "\n",
              "    .colab-df-convert:hover {\n",
              "      background-color: #E2EBFA;\n",
              "      box-shadow: 0px 1px 2px rgba(60, 64, 67, 0.3), 0px 1px 3px 1px rgba(60, 64, 67, 0.15);\n",
              "      fill: #174EA6;\n",
              "    }\n",
              "\n",
              "    [theme=dark] .colab-df-convert {\n",
              "      background-color: #3B4455;\n",
              "      fill: #D2E3FC;\n",
              "    }\n",
              "\n",
              "    [theme=dark] .colab-df-convert:hover {\n",
              "      background-color: #434B5C;\n",
              "      box-shadow: 0px 1px 3px 1px rgba(0, 0, 0, 0.15);\n",
              "      filter: drop-shadow(0px 1px 2px rgba(0, 0, 0, 0.3));\n",
              "      fill: #FFFFFF;\n",
              "    }\n",
              "  </style>\n",
              "\n",
              "      <script>\n",
              "        const buttonEl =\n",
              "          document.querySelector('#df-9023b77a-debc-4ee0-938c-3b51e138059f button.colab-df-convert');\n",
              "        buttonEl.style.display =\n",
              "          google.colab.kernel.accessAllowed ? 'block' : 'none';\n",
              "\n",
              "        async function convertToInteractive(key) {\n",
              "          const element = document.querySelector('#df-9023b77a-debc-4ee0-938c-3b51e138059f');\n",
              "          const dataTable =\n",
              "            await google.colab.kernel.invokeFunction('convertToInteractive',\n",
              "                                                     [key], {});\n",
              "          if (!dataTable) return;\n",
              "\n",
              "          const docLinkHtml = 'Like what you see? Visit the ' +\n",
              "            '<a target=\"_blank\" href=https://colab.research.google.com/notebooks/data_table.ipynb>data table notebook</a>'\n",
              "            + ' to learn more about interactive tables.';\n",
              "          element.innerHTML = '';\n",
              "          dataTable['output_type'] = 'display_data';\n",
              "          await google.colab.output.renderOutput(dataTable, element);\n",
              "          const docLink = document.createElement('div');\n",
              "          docLink.innerHTML = docLinkHtml;\n",
              "          element.appendChild(docLink);\n",
              "        }\n",
              "      </script>\n",
              "    </div>\n",
              "  </div>\n",
              "  "
            ]
          },
          "metadata": {},
          "execution_count": 86
        }
      ]
    },
    {
      "cell_type": "code",
      "source": [
        "preprocessor.named_transformers_['cat'].get_feature_names_out()\n",
        "#X_train.select_dtypes(exclude='object').columns"
      ],
      "metadata": {
        "colab": {
          "base_uri": "https://localhost:8080/"
        },
        "id": "pilg8T3RxHGP",
        "outputId": "80b8fa4d-d1da-45d1-d83a-ac65ed01bb2c"
      },
      "execution_count": 87,
      "outputs": [
        {
          "output_type": "execute_result",
          "data": {
            "text/plain": [
              "array(['Education_Basic', 'Education_Graduation', 'Education_Master',\n",
              "       'Education_PhD', 'Marital_Status_Married', 'Marital_Status_Single',\n",
              "       'Marital_Status_Together', 'Marital_Status_Widow',\n",
              "       'Etapa_Adulto mayor', 'Etapa_joven'], dtype=object)"
            ]
          },
          "metadata": {},
          "execution_count": 87
        }
      ]
    },
    {
      "cell_type": "code",
      "source": [
        "X_train_enc.info()"
      ],
      "metadata": {
        "colab": {
          "base_uri": "https://localhost:8080/"
        },
        "id": "YqzrR39Jx0n3",
        "outputId": "7f3f7b5c-8697-4197-aef4-e3d7f196f9ba"
      },
      "execution_count": 88,
      "outputs": [
        {
          "output_type": "stream",
          "name": "stdout",
          "text": [
            "<class 'pandas.core.frame.DataFrame'>\n",
            "RangeIndex: 1782 entries, 0 to 1781\n",
            "Data columns (total 23 columns):\n",
            " #   Column                   Non-Null Count  Dtype  \n",
            "---  ------                   --------------  -----  \n",
            " 0   Income                   1782 non-null   float64\n",
            " 1   Kidhome                  1782 non-null   float64\n",
            " 2   Teenhome                 1782 non-null   float64\n",
            " 3   Recency                  1782 non-null   float64\n",
            " 4   NumDealsPurchases        1782 non-null   float64\n",
            " 5   NumWebPurchases          1782 non-null   float64\n",
            " 6   NumCatalogPurchases      1782 non-null   float64\n",
            " 7   NumStorePurchases        1782 non-null   float64\n",
            " 8   NumWebVisitsMonth        1782 non-null   float64\n",
            " 9   Complain                 1782 non-null   float64\n",
            " 10  Response                 1782 non-null   float64\n",
            " 11  EDAD                     1782 non-null   float64\n",
            " 12  Hijos_totales            1782 non-null   float64\n",
            " 13  Education_Basic          1782 non-null   float64\n",
            " 14  Education_Graduation     1782 non-null   float64\n",
            " 15  Education_Master         1782 non-null   float64\n",
            " 16  Education_PhD            1782 non-null   float64\n",
            " 17  Marital_Status_Married   1782 non-null   float64\n",
            " 18  Marital_Status_Single    1782 non-null   float64\n",
            " 19  Marital_Status_Together  1782 non-null   float64\n",
            " 20  Marital_Status_Widow     1782 non-null   float64\n",
            " 21  Etapa_Adulto mayor       1782 non-null   float64\n",
            " 22  Etapa_joven              1782 non-null   float64\n",
            "dtypes: float64(23)\n",
            "memory usage: 320.3 KB\n"
          ]
        }
      ]
    },
    {
      "cell_type": "code",
      "source": [
        "\n",
        "# Con los datos escalados, procederemos a aplicar el algoritmo PCA\n",
        "\n",
        "from sklearn.decomposition import PCA "
      ],
      "metadata": {
        "id": "nxpvfM0YtbFR"
      },
      "execution_count": 89,
      "outputs": []
    },
    {
      "cell_type": "code",
      "source": [
        "\n",
        "# Con los datos escalados, procederemos a aplicar el algoritmo PCA\n",
        "\n",
        "from sklearn.decomposition import PCA \n",
        "\n",
        "pca = PCA ()"
      ],
      "metadata": {
        "id": "WGLSHO2G4K56"
      },
      "execution_count": 90,
      "outputs": []
    },
    {
      "cell_type": "code",
      "source": [
        "pcaData = pd.DataFrame(pca.fit_transform(X_train_enc))"
      ],
      "metadata": {
        "id": "Xk5Bg6peo4hs"
      },
      "execution_count": 91,
      "outputs": []
    },
    {
      "cell_type": "code",
      "source": [
        "pca.explained_variance_ratio_"
      ],
      "metadata": {
        "id": "K29mXoid5jYQ",
        "colab": {
          "base_uri": "https://localhost:8080/"
        },
        "outputId": "30fca7ab-9d8e-48c9-b184-e9e5ab2a1845"
      },
      "execution_count": 92,
      "outputs": [
        {
          "output_type": "execute_result",
          "data": {
            "text/plain": [
              "array([2.60670973e-01, 1.74434273e-01, 9.65949365e-02, 5.60565878e-02,\n",
              "       5.27394756e-02, 5.12549511e-02, 5.01930304e-02, 4.14069545e-02,\n",
              "       3.88942724e-02, 3.60717189e-02, 2.93587583e-02, 2.66294995e-02,\n",
              "       2.05598187e-02, 1.57429835e-02, 1.47143108e-02, 1.06403807e-02,\n",
              "       7.29889850e-03, 5.97143734e-03, 3.90877441e-03, 2.80852003e-03,\n",
              "       2.42873637e-03, 1.62070871e-03, 8.84369446e-37])"
            ]
          },
          "metadata": {},
          "execution_count": 92
        }
      ]
    },
    {
      "cell_type": "code",
      "source": [
        "plt.rcParams['figure.figsize'] = 7, 7\n",
        "plt.plot(np.cumsum(pca.explained_variance_ratio_))\n",
        "plt.xlabel('Variables')\n",
        "plt.ylabel('Ratio of Variance Explained')\n",
        "plt.title('Cobertura de variabilidad delas variables')\n",
        "plt.axhline(y=0.90, color='r', linestyle='-')\n",
        "plt.text(0.5, 0.75, '90% cut-off threshold', color = 'red', fontsize=16)\n",
        "#ax.grid(axis='x')\n",
        "plt.show()"
      ],
      "metadata": {
        "id": "vxZUDZqs5jb6",
        "colab": {
          "base_uri": "https://localhost:8080/",
          "height": 639
        },
        "outputId": "d369a3d0-bc4b-4068-f8ca-bd0c98c27817"
      },
      "execution_count": 93,
      "outputs": [
        {
          "output_type": "display_data",
          "data": {
            "text/plain": [
              "<Figure size 700x700 with 1 Axes>"
            ],
            "image/png": "[encoded data removed]"
          },
          "metadata": {}
        }
      ]
    },
    {
      "cell_type": "markdown",
      "source": [
        "Con las 12 primeras se llega al 90% de la de explicacion de variabilidad"
      ],
      "metadata": {
        "id": "hUXg2YQgqHLS"
      }
    },
    {
      "cell_type": "code",
      "source": [
        "pcaData.head()"
      ],
      "metadata": {
        "colab": {
          "base_uri": "https://localhost:8080/",
          "height": 386
        },
        "id": "QsOGt2jKqPnN",
        "outputId": "583c68bf-00f3-4e39-d37d-37ce95460b3b"
      },
      "execution_count": 94,
      "outputs": [
        {
          "output_type": "execute_result",
          "data": {
            "text/plain": [
              "         0         1         2         3         4         5         6   \\\n",
              "0  0.719146 -1.231622  0.930618 -0.113730  1.093443 -0.195168  0.501384   \n",
              "1 -2.217542  0.115506 -0.409769  1.055254 -0.141914  0.718164  0.436794   \n",
              "2  1.821500 -1.130224  0.651028 -0.834094  0.063432 -0.830669 -0.084158   \n",
              "3  1.021970 -0.387139 -1.589039  0.399581 -0.863917 -0.045564 -0.177762   \n",
              "4  1.715470 -0.634820  0.636840 -0.557327  0.000973 -0.644820 -0.344006   \n",
              "\n",
              "         7         8         9   ...        13        14        15        16  \\\n",
              "0 -0.613909  0.382544  0.390024  ... -0.152010  0.539654 -0.179457  0.056184   \n",
              "1  0.239590 -0.371400 -0.189894  ...  0.554258  0.345017  0.191826 -0.105438   \n",
              "2 -0.035652 -0.242807  0.505518  ... -0.192522  0.666009 -0.207280  0.043479   \n",
              "3  0.152497 -0.601616  0.025002  ...  0.037315  0.350405 -0.235687 -0.088316   \n",
              "4 -0.036339 -0.265620  0.535585  ... -0.087763  0.577292 -0.120771  0.034446   \n",
              "\n",
              "         17        18        19        20        21            22  \n",
              "0 -0.124095 -0.078771  0.010149 -0.012887 -0.007292  2.020711e-18  \n",
              "1 -0.045349 -0.205929  0.014298  0.031899 -0.001135  9.661853e-17  \n",
              "2 -0.099534  0.063600  0.014496 -0.007970 -0.023250  1.021555e-19  \n",
              "3 -0.030620 -0.051561  0.021257  0.016452 -0.009464 -3.011127e-19  \n",
              "4 -0.145032  0.219851  0.002740 -0.008709 -0.029193  3.716508e-19  \n",
              "\n",
              "[5 rows x 23 columns]"
            ],
            "text/html": [
              "\n",
              "  <div id=\"df-c4bd61bb-fd73-454f-8fd2-14e76c9a471b\">\n",
              "    <div class=\"colab-df-container\">\n",
              "      <div>\n",
              "<style scoped>\n",
              "    .dataframe tbody tr th:only-of-type {\n",
              "        vertical-align: middle;\n",
              "    }\n",
              "\n",
              "    .dataframe tbody tr th {\n",
              "        vertical-align: top;\n",
              "    }\n",
              "\n",
              "    .dataframe thead th {\n",
              "        text-align: right;\n",
              "    }\n",
              "</style>\n",
              "<table border=\"1\" class=\"dataframe\">\n",
              "  <thead>\n",
              "    <tr style=\"text-align: right;\">\n",
              "      <th></th>\n",
              "      <th>0</th>\n",
              "      <th>1</th>\n",
              "      <th>2</th>\n",
              "      <th>3</th>\n",
              "      <th>4</th>\n",
              "      <th>5</th>\n",
              "      <th>6</th>\n",
              "      <th>7</th>\n",
              "      <th>8</th>\n",
              "      <th>9</th>\n",
              "      <th>...</th>\n",
              "      <th>13</th>\n",
              "      <th>14</th>\n",
              "      <th>15</th>\n",
              "      <th>16</th>\n",
              "      <th>17</th>\n",
              "      <th>18</th>\n",
              "      <th>19</th>\n",
              "      <th>20</th>\n",
              "      <th>21</th>\n",
              "      <th>22</th>\n",
              "    </tr>\n",
              "  </thead>\n",
              "  <tbody>\n",
              "    <tr>\n",
              "      <th>0</th>\n",
              "      <td>0.719146</td>\n",
              "      <td>-1.231622</td>\n",
              "      <td>0.930618</td>\n",
              "      <td>-0.113730</td>\n",
              "      <td>1.093443</td>\n",
              "      <td>-0.195168</td>\n",
              "      <td>0.501384</td>\n",
              "      <td>-0.613909</td>\n",
              "      <td>0.382544</td>\n",
              "      <td>0.390024</td>\n",
              "      <td>...</td>\n",
              "      <td>-0.152010</td>\n",
              "      <td>0.539654</td>\n",
              "      <td>-0.179457</td>\n",
              "      <td>0.056184</td>\n",
              "      <td>-0.124095</td>\n",
              "      <td>-0.078771</td>\n",
              "      <td>0.010149</td>\n",
              "      <td>-0.012887</td>\n",
              "      <td>-0.007292</td>\n",
              "      <td>2.020711e-18</td>\n",
              "    </tr>\n",
              "    <tr>\n",
              "      <th>1</th>\n",
              "      <td>-2.217542</td>\n",
              "      <td>0.115506</td>\n",
              "      <td>-0.409769</td>\n",
              "      <td>1.055254</td>\n",
              "      <td>-0.141914</td>\n",
              "      <td>0.718164</td>\n",
              "      <td>0.436794</td>\n",
              "      <td>0.239590</td>\n",
              "      <td>-0.371400</td>\n",
              "      <td>-0.189894</td>\n",
              "      <td>...</td>\n",
              "      <td>0.554258</td>\n",
              "      <td>0.345017</td>\n",
              "      <td>0.191826</td>\n",
              "      <td>-0.105438</td>\n",
              "      <td>-0.045349</td>\n",
              "      <td>-0.205929</td>\n",
              "      <td>0.014298</td>\n",
              "      <td>0.031899</td>\n",
              "      <td>-0.001135</td>\n",
              "      <td>9.661853e-17</td>\n",
              "    </tr>\n",
              "    <tr>\n",
              "      <th>2</th>\n",
              "      <td>1.821500</td>\n",
              "      <td>-1.130224</td>\n",
              "      <td>0.651028</td>\n",
              "      <td>-0.834094</td>\n",
              "      <td>0.063432</td>\n",
              "      <td>-0.830669</td>\n",
              "      <td>-0.084158</td>\n",
              "      <td>-0.035652</td>\n",
              "      <td>-0.242807</td>\n",
              "      <td>0.505518</td>\n",
              "      <td>...</td>\n",
              "      <td>-0.192522</td>\n",
              "      <td>0.666009</td>\n",
              "      <td>-0.207280</td>\n",
              "      <td>0.043479</td>\n",
              "      <td>-0.099534</td>\n",
              "      <td>0.063600</td>\n",
              "      <td>0.014496</td>\n",
              "      <td>-0.007970</td>\n",
              "      <td>-0.023250</td>\n",
              "      <td>1.021555e-19</td>\n",
              "    </tr>\n",
              "    <tr>\n",
              "      <th>3</th>\n",
              "      <td>1.021970</td>\n",
              "      <td>-0.387139</td>\n",
              "      <td>-1.589039</td>\n",
              "      <td>0.399581</td>\n",
              "      <td>-0.863917</td>\n",
              "      <td>-0.045564</td>\n",
              "      <td>-0.177762</td>\n",
              "      <td>0.152497</td>\n",
              "      <td>-0.601616</td>\n",
              "      <td>0.025002</td>\n",
              "      <td>...</td>\n",
              "      <td>0.037315</td>\n",
              "      <td>0.350405</td>\n",
              "      <td>-0.235687</td>\n",
              "      <td>-0.088316</td>\n",
              "      <td>-0.030620</td>\n",
              "      <td>-0.051561</td>\n",
              "      <td>0.021257</td>\n",
              "      <td>0.016452</td>\n",
              "      <td>-0.009464</td>\n",
              "      <td>-3.011127e-19</td>\n",
              "    </tr>\n",
              "    <tr>\n",
              "      <th>4</th>\n",
              "      <td>1.715470</td>\n",
              "      <td>-0.634820</td>\n",
              "      <td>0.636840</td>\n",
              "      <td>-0.557327</td>\n",
              "      <td>0.000973</td>\n",
              "      <td>-0.644820</td>\n",
              "      <td>-0.344006</td>\n",
              "      <td>-0.036339</td>\n",
              "      <td>-0.265620</td>\n",
              "      <td>0.535585</td>\n",
              "      <td>...</td>\n",
              "      <td>-0.087763</td>\n",
              "      <td>0.577292</td>\n",
              "      <td>-0.120771</td>\n",
              "      <td>0.034446</td>\n",
              "      <td>-0.145032</td>\n",
              "      <td>0.219851</td>\n",
              "      <td>0.002740</td>\n",
              "      <td>-0.008709</td>\n",
              "      <td>-0.029193</td>\n",
              "      <td>3.716508e-19</td>\n",
              "    </tr>\n",
              "  </tbody>\n",
              "</table>\n",
              "<p>5 rows × 23 columns</p>\n",
              "</div>\n",
              "      <button class=\"colab-df-convert\" onclick=\"convertToInteractive('df-c4bd61bb-fd73-454f-8fd2-14e76c9a471b')\"\n",
              "              title=\"Convert this dataframe to an interactive table.\"\n",
              "              style=\"display:none;\">\n",
              "        \n",
              "  <svg xmlns=\"http://www.w3.org/2000/svg\" height=\"24px\"viewBox=\"0 0 24 24\"\n",
              "       width=\"24px\">\n",
              "    <path d=\"M0 0h24v24H0V0z\" fill=\"none\"/>\n",
              "    <path d=\"M18.56 5.44l.94 2.06.94-2.06 2.06-.94-2.06-.94-.94-2.06-.94 2.06-2.06.94zm-11 1L8.5 8.5l.94-2.06 2.06-.94-2.06-.94L8.5 2.5l-.94 2.06-2.06.94zm10 10l.94 2.06.94-2.06 2.06-.94-2.06-.94-.94-2.06-.94 2.06-2.06.94z\"/><path d=\"M17.41 7.96l-1.37-1.37c-.4-.4-.92-.59-1.43-.59-.52 0-1.04.2-1.43.59L10.3 9.45l-7.72 7.72c-.78.78-.78 2.05 0 2.83L4 21.41c.39.39.9.59 1.41.59.51 0 1.02-.2 1.41-.59l7.78-7.78 2.81-2.81c.8-.78.8-2.07 0-2.86zM5.41 20L4 18.59l7.72-7.72 1.47 1.35L5.41 20z\"/>\n",
              "  </svg>\n",
              "      </button>\n",
              "      \n",
              "  <style>\n",
              "    .colab-df-container {\n",
              "      display:flex;\n",
              "      flex-wrap:wrap;\n",
              "      gap: 12px;\n",
              "    }\n",
              "\n",
              "    .colab-df-convert {\n",
              "      background-color: #E8F0FE;\n",
              "      border: none;\n",
              "      border-radius: 50%;\n",
              "      cursor: pointer;\n",
              "      display: none;\n",
              "      fill: #1967D2;\n",
              "      height: 32px;\n",
              "      padding: 0 0 0 0;\n",
              "      width: 32px;\n",
              "    }\n",
              "\n",
              "    .colab-df-convert:hover {\n",
              "      background-color: #E2EBFA;\n",
              "      box-shadow: 0px 1px 2px rgba(60, 64, 67, 0.3), 0px 1px 3px 1px rgba(60, 64, 67, 0.15);\n",
              "      fill: #174EA6;\n",
              "    }\n",
              "\n",
              "    [theme=dark] .colab-df-convert {\n",
              "      background-color: #3B4455;\n",
              "      fill: #D2E3FC;\n",
              "    }\n",
              "\n",
              "    [theme=dark] .colab-df-convert:hover {\n",
              "      background-color: #434B5C;\n",
              "      box-shadow: 0px 1px 3px 1px rgba(0, 0, 0, 0.15);\n",
              "      filter: drop-shadow(0px 1px 2px rgba(0, 0, 0, 0.3));\n",
              "      fill: #FFFFFF;\n",
              "    }\n",
              "  </style>\n",
              "\n",
              "      <script>\n",
              "        const buttonEl =\n",
              "          document.querySelector('#df-c4bd61bb-fd73-454f-8fd2-14e76c9a471b button.colab-df-convert');\n",
              "        buttonEl.style.display =\n",
              "          google.colab.kernel.accessAllowed ? 'block' : 'none';\n",
              "\n",
              "        async function convertToInteractive(key) {\n",
              "          const element = document.querySelector('#df-c4bd61bb-fd73-454f-8fd2-14e76c9a471b');\n",
              "          const dataTable =\n",
              "            await google.colab.kernel.invokeFunction('convertToInteractive',\n",
              "                                                     [key], {});\n",
              "          if (!dataTable) return;\n",
              "\n",
              "          const docLinkHtml = 'Like what you see? Visit the ' +\n",
              "            '<a target=\"_blank\" href=https://colab.research.google.com/notebooks/data_table.ipynb>data table notebook</a>'\n",
              "            + ' to learn more about interactive tables.';\n",
              "          element.innerHTML = '';\n",
              "          dataTable['output_type'] = 'display_data';\n",
              "          await google.colab.output.renderOutput(dataTable, element);\n",
              "          const docLink = document.createElement('div');\n",
              "          docLink.innerHTML = docLinkHtml;\n",
              "          element.appendChild(docLink);\n",
              "        }\n",
              "      </script>\n",
              "    </div>\n",
              "  </div>\n",
              "  "
            ]
          },
          "metadata": {},
          "execution_count": 94
        }
      ]
    },
    {
      "cell_type": "code",
      "source": [
        "\n",
        "pcaData.drop(columns = [13,14,15,16,17,18,19,20,21,22], inplace=True)\n",
        "pcaData.head()"
      ],
      "metadata": {
        "colab": {
          "base_uri": "https://localhost:8080/",
          "height": 270
        },
        "id": "ia8t7zygqXak",
        "outputId": "1435c8fc-87b0-441f-8a6b-da186f219979"
      },
      "execution_count": 95,
      "outputs": [
        {
          "output_type": "execute_result",
          "data": {
            "text/plain": [
              "         0         1         2         3         4         5         6   \\\n",
              "0  0.719146 -1.231622  0.930618 -0.113730  1.093443 -0.195168  0.501384   \n",
              "1 -2.217542  0.115506 -0.409769  1.055254 -0.141914  0.718164  0.436794   \n",
              "2  1.821500 -1.130224  0.651028 -0.834094  0.063432 -0.830669 -0.084158   \n",
              "3  1.021970 -0.387139 -1.589039  0.399581 -0.863917 -0.045564 -0.177762   \n",
              "4  1.715470 -0.634820  0.636840 -0.557327  0.000973 -0.644820 -0.344006   \n",
              "\n",
              "         7         8         9         10        11        12  \n",
              "0 -0.613909  0.382544  0.390024 -0.048311 -0.107862  0.004438  \n",
              "1  0.239590 -0.371400 -0.189894 -0.385359 -0.393042 -0.368789  \n",
              "2 -0.035652 -0.242807  0.505518 -0.031962 -0.350830 -0.359677  \n",
              "3  0.152497 -0.601616  0.025002 -0.554228 -0.397712 -0.212976  \n",
              "4 -0.036339 -0.265620  0.535585  0.035435 -0.352897 -0.008347  "
            ],
            "text/html": [
              "\n",
              "  <div id=\"df-6cc1ae7d-10f4-4fa4-a532-badb1eb1cea2\">\n",
              "    <div class=\"colab-df-container\">\n",
              "      <div>\n",
              "<style scoped>\n",
              "    .dataframe tbody tr th:only-of-type {\n",
              "        vertical-align: middle;\n",
              "    }\n",
              "\n",
              "    .dataframe tbody tr th {\n",
              "        vertical-align: top;\n",
              "    }\n",
              "\n",
              "    .dataframe thead th {\n",
              "        text-align: right;\n",
              "    }\n",
              "</style>\n",
              "<table border=\"1\" class=\"dataframe\">\n",
              "  <thead>\n",
              "    <tr style=\"text-align: right;\">\n",
              "      <th></th>\n",
              "      <th>0</th>\n",
              "      <th>1</th>\n",
              "      <th>2</th>\n",
              "      <th>3</th>\n",
              "      <th>4</th>\n",
              "      <th>5</th>\n",
              "      <th>6</th>\n",
              "      <th>7</th>\n",
              "      <th>8</th>\n",
              "      <th>9</th>\n",
              "      <th>10</th>\n",
              "      <th>11</th>\n",
              "      <th>12</th>\n",
              "    </tr>\n",
              "  </thead>\n",
              "  <tbody>\n",
              "    <tr>\n",
              "      <th>0</th>\n",
              "      <td>0.719146</td>\n",
              "      <td>-1.231622</td>\n",
              "      <td>0.930618</td>\n",
              "      <td>-0.113730</td>\n",
              "      <td>1.093443</td>\n",
              "      <td>-0.195168</td>\n",
              "      <td>0.501384</td>\n",
              "      <td>-0.613909</td>\n",
              "      <td>0.382544</td>\n",
              "      <td>0.390024</td>\n",
              "      <td>-0.048311</td>\n",
              "      <td>-0.107862</td>\n",
              "      <td>0.004438</td>\n",
              "    </tr>\n",
              "    <tr>\n",
              "      <th>1</th>\n",
              "      <td>-2.217542</td>\n",
              "      <td>0.115506</td>\n",
              "      <td>-0.409769</td>\n",
              "      <td>1.055254</td>\n",
              "      <td>-0.141914</td>\n",
              "      <td>0.718164</td>\n",
              "      <td>0.436794</td>\n",
              "      <td>0.239590</td>\n",
              "      <td>-0.371400</td>\n",
              "      <td>-0.189894</td>\n",
              "      <td>-0.385359</td>\n",
              "      <td>-0.393042</td>\n",
              "      <td>-0.368789</td>\n",
              "    </tr>\n",
              "    <tr>\n",
              "      <th>2</th>\n",
              "      <td>1.821500</td>\n",
              "      <td>-1.130224</td>\n",
              "      <td>0.651028</td>\n",
              "      <td>-0.834094</td>\n",
              "      <td>0.063432</td>\n",
              "      <td>-0.830669</td>\n",
              "      <td>-0.084158</td>\n",
              "      <td>-0.035652</td>\n",
              "      <td>-0.242807</td>\n",
              "      <td>0.505518</td>\n",
              "      <td>-0.031962</td>\n",
              "      <td>-0.350830</td>\n",
              "      <td>-0.359677</td>\n",
              "    </tr>\n",
              "    <tr>\n",
              "      <th>3</th>\n",
              "      <td>1.021970</td>\n",
              "      <td>-0.387139</td>\n",
              "      <td>-1.589039</td>\n",
              "      <td>0.399581</td>\n",
              "      <td>-0.863917</td>\n",
              "      <td>-0.045564</td>\n",
              "      <td>-0.177762</td>\n",
              "      <td>0.152497</td>\n",
              "      <td>-0.601616</td>\n",
              "      <td>0.025002</td>\n",
              "      <td>-0.554228</td>\n",
              "      <td>-0.397712</td>\n",
              "      <td>-0.212976</td>\n",
              "    </tr>\n",
              "    <tr>\n",
              "      <th>4</th>\n",
              "      <td>1.715470</td>\n",
              "      <td>-0.634820</td>\n",
              "      <td>0.636840</td>\n",
              "      <td>-0.557327</td>\n",
              "      <td>0.000973</td>\n",
              "      <td>-0.644820</td>\n",
              "      <td>-0.344006</td>\n",
              "      <td>-0.036339</td>\n",
              "      <td>-0.265620</td>\n",
              "      <td>0.535585</td>\n",
              "      <td>0.035435</td>\n",
              "      <td>-0.352897</td>\n",
              "      <td>-0.008347</td>\n",
              "    </tr>\n",
              "  </tbody>\n",
              "</table>\n",
              "</div>\n",
              "      <button class=\"colab-df-convert\" onclick=\"convertToInteractive('df-6cc1ae7d-10f4-4fa4-a532-badb1eb1cea2')\"\n",
              "              title=\"Convert this dataframe to an interactive table.\"\n",
              "              style=\"display:none;\">\n",
              "        \n",
              "  <svg xmlns=\"http://www.w3.org/2000/svg\" height=\"24px\"viewBox=\"0 0 24 24\"\n",
              "       width=\"24px\">\n",
              "    <path d=\"M0 0h24v24H0V0z\" fill=\"none\"/>\n",
              "    <path d=\"M18.56 5.44l.94 2.06.94-2.06 2.06-.94-2.06-.94-.94-2.06-.94 2.06-2.06.94zm-11 1L8.5 8.5l.94-2.06 2.06-.94-2.06-.94L8.5 2.5l-.94 2.06-2.06.94zm10 10l.94 2.06.94-2.06 2.06-.94-2.06-.94-.94-2.06-.94 2.06-2.06.94z\"/><path d=\"M17.41 7.96l-1.37-1.37c-.4-.4-.92-.59-1.43-.59-.52 0-1.04.2-1.43.59L10.3 9.45l-7.72 7.72c-.78.78-.78 2.05 0 2.83L4 21.41c.39.39.9.59 1.41.59.51 0 1.02-.2 1.41-.59l7.78-7.78 2.81-2.81c.8-.78.8-2.07 0-2.86zM5.41 20L4 18.59l7.72-7.72 1.47 1.35L5.41 20z\"/>\n",
              "  </svg>\n",
              "      </button>\n",
              "      \n",
              "  <style>\n",
              "    .colab-df-container {\n",
              "      display:flex;\n",
              "      flex-wrap:wrap;\n",
              "      gap: 12px;\n",
              "    }\n",
              "\n",
              "    .colab-df-convert {\n",
              "      background-color: #E8F0FE;\n",
              "      border: none;\n",
              "      border-radius: 50%;\n",
              "      cursor: pointer;\n",
              "      display: none;\n",
              "      fill: #1967D2;\n",
              "      height: 32px;\n",
              "      padding: 0 0 0 0;\n",
              "      width: 32px;\n",
              "    }\n",
              "\n",
              "    .colab-df-convert:hover {\n",
              "      background-color: #E2EBFA;\n",
              "      box-shadow: 0px 1px 2px rgba(60, 64, 67, 0.3), 0px 1px 3px 1px rgba(60, 64, 67, 0.15);\n",
              "      fill: #174EA6;\n",
              "    }\n",
              "\n",
              "    [theme=dark] .colab-df-convert {\n",
              "      background-color: #3B4455;\n",
              "      fill: #D2E3FC;\n",
              "    }\n",
              "\n",
              "    [theme=dark] .colab-df-convert:hover {\n",
              "      background-color: #434B5C;\n",
              "      box-shadow: 0px 1px 3px 1px rgba(0, 0, 0, 0.15);\n",
              "      filter: drop-shadow(0px 1px 2px rgba(0, 0, 0, 0.3));\n",
              "      fill: #FFFFFF;\n",
              "    }\n",
              "  </style>\n",
              "\n",
              "      <script>\n",
              "        const buttonEl =\n",
              "          document.querySelector('#df-6cc1ae7d-10f4-4fa4-a532-badb1eb1cea2 button.colab-df-convert');\n",
              "        buttonEl.style.display =\n",
              "          google.colab.kernel.accessAllowed ? 'block' : 'none';\n",
              "\n",
              "        async function convertToInteractive(key) {\n",
              "          const element = document.querySelector('#df-6cc1ae7d-10f4-4fa4-a532-badb1eb1cea2');\n",
              "          const dataTable =\n",
              "            await google.colab.kernel.invokeFunction('convertToInteractive',\n",
              "                                                     [key], {});\n",
              "          if (!dataTable) return;\n",
              "\n",
              "          const docLinkHtml = 'Like what you see? Visit the ' +\n",
              "            '<a target=\"_blank\" href=https://colab.research.google.com/notebooks/data_table.ipynb>data table notebook</a>'\n",
              "            + ' to learn more about interactive tables.';\n",
              "          element.innerHTML = '';\n",
              "          dataTable['output_type'] = 'display_data';\n",
              "          await google.colab.output.renderOutput(dataTable, element);\n",
              "          const docLink = document.createElement('div');\n",
              "          docLink.innerHTML = docLinkHtml;\n",
              "          element.appendChild(docLink);\n",
              "        }\n",
              "      </script>\n",
              "    </div>\n",
              "  </div>\n",
              "  "
            ]
          },
          "metadata": {},
          "execution_count": 95
        }
      ]
    },
    {
      "cell_type": "code",
      "source": [
        "X_train_encPCA=pcaData"
      ],
      "metadata": {
        "id": "h_-DVN8s5jiz"
      },
      "execution_count": 96,
      "outputs": []
    },
    {
      "cell_type": "code",
      "source": [
        "from sklearn.ensemble import RandomForestRegressor"
      ],
      "metadata": {
        "id": "Y-hAdTuJK3pA"
      },
      "execution_count": 97,
      "outputs": []
    },
    {
      "cell_type": "code",
      "source": [
        "model = RandomForestRegressor()\n",
        "model.fit(X_train_encPCA, y_train)"
      ],
      "metadata": {
        "id": "Nhf5aoSWK4fK",
        "colab": {
          "base_uri": "https://localhost:8080/",
          "height": 74
        },
        "outputId": "4a1a1ad7-a05c-4240-9dc5-31349d824477"
      },
      "execution_count": 98,
      "outputs": [
        {
          "output_type": "execute_result",
          "data": {
            "text/plain": [
              "RandomForestRegressor()"
            ],
            "text/html": [
              "<style>#sk-container-id-4 {color: black;background-color: white;}#sk-container-id-4 pre{padding: 0;}#sk-container-id-4 div.sk-toggleable {background-color: white;}#sk-container-id-4 label.sk-toggleable__label {cursor: pointer;display: block;width: 100%;margin-bottom: 0;padding: 0.3em;box-sizing: border-box;text-align: center;}#sk-container-id-4 label.sk-toggleable__label-arrow:before {content: \"▸\";float: left;margin-right: 0.25em;color: #696969;}#sk-container-id-4 label.sk-toggleable__label-arrow:hover:before {color: black;}#sk-container-id-4 div.sk-estimator:hover label.sk-toggleable__label-arrow:before {color: black;}#sk-container-id-4 div.sk-toggleable__content {max-height: 0;max-width: 0;overflow: hidden;text-align: left;background-color: #f0f8ff;}#sk-container-id-4 div.sk-toggleable__content pre {margin: 0.2em;color: black;border-radius: 0.25em;background-color: #f0f8ff;}#sk-container-id-4 input.sk-toggleable__control:checked~div.sk-toggleable__content {max-height: 200px;max-width: 100%;overflow: auto;}#sk-container-id-4 input.sk-toggleable__control:checked~label.sk-toggleable__label-arrow:before {content: \"▾\";}#sk-container-id-4 div.sk-estimator input.sk-toggleable__control:checked~label.sk-toggleable__label {background-color: #d4ebff;}#sk-container-id-4 div.sk-label input.sk-toggleable__control:checked~label.sk-toggleable__label {background-color: #d4ebff;}#sk-container-id-4 input.sk-hidden--visually {border: 0;clip: rect(1px 1px 1px 1px);clip: rect(1px, 1px, 1px, 1px);height: 1px;margin: -1px;overflow: hidden;padding: 0;position: absolute;width: 1px;}#sk-container-id-4 div.sk-estimator {font-family: monospace;background-color: #f0f8ff;border: 1px dotted black;border-radius: 0.25em;box-sizing: border-box;margin-bottom: 0.5em;}#sk-container-id-4 div.sk-estimator:hover {background-color: #d4ebff;}#sk-container-id-4 div.sk-parallel-item::after {content: \"\";width: 100%;border-bottom: 1px solid gray;flex-grow: 1;}#sk-container-id-4 div.sk-label:hover label.sk-toggleable__label {background-color: #d4ebff;}#sk-container-id-4 div.sk-serial::before {content: \"\";position: absolute;border-left: 1px solid gray;box-sizing: border-box;top: 0;bottom: 0;left: 50%;z-index: 0;}#sk-container-id-4 div.sk-serial {display: flex;flex-direction: column;align-items: center;background-color: white;padding-right: 0.2em;padding-left: 0.2em;position: relative;}#sk-container-id-4 div.sk-item {position: relative;z-index: 1;}#sk-container-id-4 div.sk-parallel {display: flex;align-items: stretch;justify-content: center;background-color: white;position: relative;}#sk-container-id-4 div.sk-item::before, #sk-container-id-4 div.sk-parallel-item::before {content: \"\";position: absolute;border-left: 1px solid gray;box-sizing: border-box;top: 0;bottom: 0;left: 50%;z-index: -1;}#sk-container-id-4 div.sk-parallel-item {display: flex;flex-direction: column;z-index: 1;position: relative;background-color: white;}#sk-container-id-4 div.sk-parallel-item:first-child::after {align-self: flex-end;width: 50%;}#sk-container-id-4 div.sk-parallel-item:last-child::after {align-self: flex-start;width: 50%;}#sk-container-id-4 div.sk-parallel-item:only-child::after {width: 0;}#sk-container-id-4 div.sk-dashed-wrapped {border: 1px dashed gray;margin: 0 0.4em 0.5em 0.4em;box-sizing: border-box;padding-bottom: 0.4em;background-color: white;}#sk-container-id-4 div.sk-label label {font-family: monospace;font-weight: bold;display: inline-block;line-height: 1.2em;}#sk-container-id-4 div.sk-label-container {text-align: center;}#sk-container-id-4 div.sk-container {/* jupyter's `normalize.less` sets `[hidden] { display: none; }` but bootstrap.min.css set `[hidden] { display: none !important; }` so we also need the `!important` here to be able to override the default hidden behavior on the sphinx rendered scikit-learn.org. See: https://github.com/scikit-learn/scikit-learn/issues/21755 */display: inline-block !important;position: relative;}#sk-container-id-4 div.sk-text-repr-fallback {display: none;}</style><div id=\"sk-container-id-4\" class=\"sk-top-container\"><div class=\"sk-text-repr-fallback\"><pre>RandomForestRegressor()</pre><b>In a Jupyter environment, please rerun this cell to show the HTML representation or trust the notebook. <br />On GitHub, the HTML representation is unable to render, please try loading this page with nbviewer.org.</b></div><div class=\"sk-container\" hidden><div class=\"sk-item\"><div class=\"sk-estimator sk-toggleable\"><input class=\"sk-toggleable__control sk-hidden--visually\" id=\"sk-estimator-id-14\" type=\"checkbox\" checked><label for=\"sk-estimator-id-14\" class=\"sk-toggleable__label sk-toggleable__label-arrow\">RandomForestRegressor</label><div class=\"sk-toggleable__content\"><pre>RandomForestRegressor()</pre></div></div></div></div></div>"
            ]
          },
          "metadata": {},
          "execution_count": 98
        }
      ]
    },
    {
      "cell_type": "code",
      "source": [
        "X_test1 = preprocessor.transform(X_test)"
      ],
      "metadata": {
        "id": "N6zQ7qP1ra-r"
      },
      "execution_count": 99,
      "outputs": []
    },
    {
      "cell_type": "code",
      "source": [
        "pcaDatatest = pd.DataFrame(pca.fit_transform(X_test1))"
      ],
      "metadata": {
        "id": "dOBLxcTtrCGD"
      },
      "execution_count": 100,
      "outputs": []
    },
    {
      "cell_type": "code",
      "source": [
        "pcaDatatest.drop(columns = [13,14,15,16,17,18,19,20,21,22], inplace=True)\n",
        "pcaDatatest.head()"
      ],
      "metadata": {
        "colab": {
          "base_uri": "https://localhost:8080/",
          "height": 270
        },
        "id": "PwUojRG1rLDE",
        "outputId": "6fe180d9-81d4-481a-f8fa-106d4cf10176"
      },
      "execution_count": 101,
      "outputs": [
        {
          "output_type": "execute_result",
          "data": {
            "text/plain": [
              "         0         1         2         3         4         5         6   \\\n",
              "0 -1.513555 -0.651626  0.490715 -0.163307  0.780728 -0.218944 -0.176504   \n",
              "1 -1.134934  0.734644 -0.567854 -0.178737 -0.660844 -0.246787  0.206843   \n",
              "2  1.077660  0.771736 -1.257751  0.739751 -0.402655  0.461888 -0.559639   \n",
              "3 -0.784364  0.369369  1.476690 -0.553129  0.658399 -0.355161 -0.317900   \n",
              "4  1.491122 -1.062551 -0.098926 -0.327640  0.440304 -0.371174 -0.046594   \n",
              "\n",
              "         7         8         9         10        11        12  \n",
              "0 -0.024233  0.243349 -0.161544 -0.175344  0.120786 -0.866314  \n",
              "1 -0.268136 -0.099068  0.788678 -0.732046  0.124697 -0.065988  \n",
              "2 -0.069275 -0.214890 -0.458875  0.146735  0.406888  0.190326  \n",
              "3  1.426171 -0.803833  0.273508 -0.501541 -0.143313  0.159063  \n",
              "4  0.128209  0.562863 -0.462505 -0.328884  0.027813  0.041026  "
            ],
            "text/html": [
              "\n",
              "  <div id=\"df-82a9bab4-7404-42db-b9e4-b4a934435303\">\n",
              "    <div class=\"colab-df-container\">\n",
              "      <div>\n",
              "<style scoped>\n",
              "    .dataframe tbody tr th:only-of-type {\n",
              "        vertical-align: middle;\n",
              "    }\n",
              "\n",
              "    .dataframe tbody tr th {\n",
              "        vertical-align: top;\n",
              "    }\n",
              "\n",
              "    .dataframe thead th {\n",
              "        text-align: right;\n",
              "    }\n",
              "</style>\n",
              "<table border=\"1\" class=\"dataframe\">\n",
              "  <thead>\n",
              "    <tr style=\"text-align: right;\">\n",
              "      <th></th>\n",
              "      <th>0</th>\n",
              "      <th>1</th>\n",
              "      <th>2</th>\n",
              "      <th>3</th>\n",
              "      <th>4</th>\n",
              "      <th>5</th>\n",
              "      <th>6</th>\n",
              "      <th>7</th>\n",
              "      <th>8</th>\n",
              "      <th>9</th>\n",
              "      <th>10</th>\n",
              "      <th>11</th>\n",
              "      <th>12</th>\n",
              "    </tr>\n",
              "  </thead>\n",
              "  <tbody>\n",
              "    <tr>\n",
              "      <th>0</th>\n",
              "      <td>-1.513555</td>\n",
              "      <td>-0.651626</td>\n",
              "      <td>0.490715</td>\n",
              "      <td>-0.163307</td>\n",
              "      <td>0.780728</td>\n",
              "      <td>-0.218944</td>\n",
              "      <td>-0.176504</td>\n",
              "      <td>-0.024233</td>\n",
              "      <td>0.243349</td>\n",
              "      <td>-0.161544</td>\n",
              "      <td>-0.175344</td>\n",
              "      <td>0.120786</td>\n",
              "      <td>-0.866314</td>\n",
              "    </tr>\n",
              "    <tr>\n",
              "      <th>1</th>\n",
              "      <td>-1.134934</td>\n",
              "      <td>0.734644</td>\n",
              "      <td>-0.567854</td>\n",
              "      <td>-0.178737</td>\n",
              "      <td>-0.660844</td>\n",
              "      <td>-0.246787</td>\n",
              "      <td>0.206843</td>\n",
              "      <td>-0.268136</td>\n",
              "      <td>-0.099068</td>\n",
              "      <td>0.788678</td>\n",
              "      <td>-0.732046</td>\n",
              "      <td>0.124697</td>\n",
              "      <td>-0.065988</td>\n",
              "    </tr>\n",
              "    <tr>\n",
              "      <th>2</th>\n",
              "      <td>1.077660</td>\n",
              "      <td>0.771736</td>\n",
              "      <td>-1.257751</td>\n",
              "      <td>0.739751</td>\n",
              "      <td>-0.402655</td>\n",
              "      <td>0.461888</td>\n",
              "      <td>-0.559639</td>\n",
              "      <td>-0.069275</td>\n",
              "      <td>-0.214890</td>\n",
              "      <td>-0.458875</td>\n",
              "      <td>0.146735</td>\n",
              "      <td>0.406888</td>\n",
              "      <td>0.190326</td>\n",
              "    </tr>\n",
              "    <tr>\n",
              "      <th>3</th>\n",
              "      <td>-0.784364</td>\n",
              "      <td>0.369369</td>\n",
              "      <td>1.476690</td>\n",
              "      <td>-0.553129</td>\n",
              "      <td>0.658399</td>\n",
              "      <td>-0.355161</td>\n",
              "      <td>-0.317900</td>\n",
              "      <td>1.426171</td>\n",
              "      <td>-0.803833</td>\n",
              "      <td>0.273508</td>\n",
              "      <td>-0.501541</td>\n",
              "      <td>-0.143313</td>\n",
              "      <td>0.159063</td>\n",
              "    </tr>\n",
              "    <tr>\n",
              "      <th>4</th>\n",
              "      <td>1.491122</td>\n",
              "      <td>-1.062551</td>\n",
              "      <td>-0.098926</td>\n",
              "      <td>-0.327640</td>\n",
              "      <td>0.440304</td>\n",
              "      <td>-0.371174</td>\n",
              "      <td>-0.046594</td>\n",
              "      <td>0.128209</td>\n",
              "      <td>0.562863</td>\n",
              "      <td>-0.462505</td>\n",
              "      <td>-0.328884</td>\n",
              "      <td>0.027813</td>\n",
              "      <td>0.041026</td>\n",
              "    </tr>\n",
              "  </tbody>\n",
              "</table>\n",
              "</div>\n",
              "      <button class=\"colab-df-convert\" onclick=\"convertToInteractive('df-82a9bab4-7404-42db-b9e4-b4a934435303')\"\n",
              "              title=\"Convert this dataframe to an interactive table.\"\n",
              "              style=\"display:none;\">\n",
              "        \n",
              "  <svg xmlns=\"http://www.w3.org/2000/svg\" height=\"24px\"viewBox=\"0 0 24 24\"\n",
              "       width=\"24px\">\n",
              "    <path d=\"M0 0h24v24H0V0z\" fill=\"none\"/>\n",
              "    <path d=\"M18.56 5.44l.94 2.06.94-2.06 2.06-.94-2.06-.94-.94-2.06-.94 2.06-2.06.94zm-11 1L8.5 8.5l.94-2.06 2.06-.94-2.06-.94L8.5 2.5l-.94 2.06-2.06.94zm10 10l.94 2.06.94-2.06 2.06-.94-2.06-.94-.94-2.06-.94 2.06-2.06.94z\"/><path d=\"M17.41 7.96l-1.37-1.37c-.4-.4-.92-.59-1.43-.59-.52 0-1.04.2-1.43.59L10.3 9.45l-7.72 7.72c-.78.78-.78 2.05 0 2.83L4 21.41c.39.39.9.59 1.41.59.51 0 1.02-.2 1.41-.59l7.78-7.78 2.81-2.81c.8-.78.8-2.07 0-2.86zM5.41 20L4 18.59l7.72-7.72 1.47 1.35L5.41 20z\"/>\n",
              "  </svg>\n",
              "      </button>\n",
              "      \n",
              "  <style>\n",
              "    .colab-df-container {\n",
              "      display:flex;\n",
              "      flex-wrap:wrap;\n",
              "      gap: 12px;\n",
              "    }\n",
              "\n",
              "    .colab-df-convert {\n",
              "      background-color: #E8F0FE;\n",
              "      border: none;\n",
              "      border-radius: 50%;\n",
              "      cursor: pointer;\n",
              "      display: none;\n",
              "      fill: #1967D2;\n",
              "      height: 32px;\n",
              "      padding: 0 0 0 0;\n",
              "      width: 32px;\n",
              "    }\n",
              "\n",
              "    .colab-df-convert:hover {\n",
              "      background-color: #E2EBFA;\n",
              "      box-shadow: 0px 1px 2px rgba(60, 64, 67, 0.3), 0px 1px 3px 1px rgba(60, 64, 67, 0.15);\n",
              "      fill: #174EA6;\n",
              "    }\n",
              "\n",
              "    [theme=dark] .colab-df-convert {\n",
              "      background-color: #3B4455;\n",
              "      fill: #D2E3FC;\n",
              "    }\n",
              "\n",
              "    [theme=dark] .colab-df-convert:hover {\n",
              "      background-color: #434B5C;\n",
              "      box-shadow: 0px 1px 3px 1px rgba(0, 0, 0, 0.15);\n",
              "      filter: drop-shadow(0px 1px 2px rgba(0, 0, 0, 0.3));\n",
              "      fill: #FFFFFF;\n",
              "    }\n",
              "  </style>\n",
              "\n",
              "      <script>\n",
              "        const buttonEl =\n",
              "          document.querySelector('#df-82a9bab4-7404-42db-b9e4-b4a934435303 button.colab-df-convert');\n",
              "        buttonEl.style.display =\n",
              "          google.colab.kernel.accessAllowed ? 'block' : 'none';\n",
              "\n",
              "        async function convertToInteractive(key) {\n",
              "          const element = document.querySelector('#df-82a9bab4-7404-42db-b9e4-b4a934435303');\n",
              "          const dataTable =\n",
              "            await google.colab.kernel.invokeFunction('convertToInteractive',\n",
              "                                                     [key], {});\n",
              "          if (!dataTable) return;\n",
              "\n",
              "          const docLinkHtml = 'Like what you see? Visit the ' +\n",
              "            '<a target=\"_blank\" href=https://colab.research.google.com/notebooks/data_table.ipynb>data table notebook</a>'\n",
              "            + ' to learn more about interactive tables.';\n",
              "          element.innerHTML = '';\n",
              "          dataTable['output_type'] = 'display_data';\n",
              "          await google.colab.output.renderOutput(dataTable, element);\n",
              "          const docLink = document.createElement('div');\n",
              "          docLink.innerHTML = docLinkHtml;\n",
              "          element.appendChild(docLink);\n",
              "        }\n",
              "      </script>\n",
              "    </div>\n",
              "  </div>\n",
              "  "
            ]
          },
          "metadata": {},
          "execution_count": 101
        }
      ]
    },
    {
      "cell_type": "code",
      "source": [
        "from sklearn.metrics import mean_absolute_error, mean_absolute_percentage_error, mean_squared_error, r2_score\n",
        "\n"
      ],
      "metadata": {
        "id": "ehrJ02iPOq5z"
      },
      "execution_count": 102,
      "outputs": []
    },
    {
      "cell_type": "code",
      "source": [
        "pred = model.predict(pcaDatatest)"
      ],
      "metadata": {
        "id": "k9YncHm7jx2P"
      },
      "execution_count": 103,
      "outputs": []
    },
    {
      "cell_type": "code",
      "source": [
        "#pred_tree = model_tree.predict(X_test1)"
      ],
      "metadata": {
        "id": "V0TUHD2H2zoi"
      },
      "execution_count": 104,
      "outputs": []
    },
    {
      "cell_type": "code",
      "source": [
        "metrics_dict = {'MAE': [mean_absolute_error(y_test, pred)], 'MSE': [mean_squared_error(y_test, pred)],\n",
        "              'R2': [r2_score(y_test, pred)], 'MAPE': [mean_absolute_percentage_error(y_test, pred)]}\n",
        "pd.DataFrame.from_dict(metrics_dict, orient='index')"
      ],
      "metadata": {
        "id": "TqRr17uNQIrx",
        "colab": {
          "base_uri": "https://localhost:8080/",
          "height": 174
        },
        "outputId": "0f491b43-eb45-463e-ba17-04a461d1be45"
      },
      "execution_count": 105,
      "outputs": [
        {
          "output_type": "execute_result",
          "data": {
            "text/plain": [
              "                 0\n",
              "MAE     154.651188\n",
              "MSE   59858.360865\n",
              "R2        0.826705\n",
              "MAPE      0.594321"
            ],
            "text/html": [
              "\n",
              "  <div id=\"df-2114f4ed-b75b-450d-abbd-d53a4931abba\">\n",
              "    <div class=\"colab-df-container\">\n",
              "      <div>\n",
              "<style scoped>\n",
              "    .dataframe tbody tr th:only-of-type {\n",
              "        vertical-align: middle;\n",
              "    }\n",
              "\n",
              "    .dataframe tbody tr th {\n",
              "        vertical-align: top;\n",
              "    }\n",
              "\n",
              "    .dataframe thead th {\n",
              "        text-align: right;\n",
              "    }\n",
              "</style>\n",
              "<table border=\"1\" class=\"dataframe\">\n",
              "  <thead>\n",
              "    <tr style=\"text-align: right;\">\n",
              "      <th></th>\n",
              "      <th>0</th>\n",
              "    </tr>\n",
              "  </thead>\n",
              "  <tbody>\n",
              "    <tr>\n",
              "      <th>MAE</th>\n",
              "      <td>154.651188</td>\n",
              "    </tr>\n",
              "    <tr>\n",
              "      <th>MSE</th>\n",
              "      <td>59858.360865</td>\n",
              "    </tr>\n",
              "    <tr>\n",
              "      <th>R2</th>\n",
              "      <td>0.826705</td>\n",
              "    </tr>\n",
              "    <tr>\n",
              "      <th>MAPE</th>\n",
              "      <td>0.594321</td>\n",
              "    </tr>\n",
              "  </tbody>\n",
              "</table>\n",
              "</div>\n",
              "      <button class=\"colab-df-convert\" onclick=\"convertToInteractive('df-2114f4ed-b75b-450d-abbd-d53a4931abba')\"\n",
              "              title=\"Convert this dataframe to an interactive table.\"\n",
              "              style=\"display:none;\">\n",
              "        \n",
              "  <svg xmlns=\"http://www.w3.org/2000/svg\" height=\"24px\"viewBox=\"0 0 24 24\"\n",
              "       width=\"24px\">\n",
              "    <path d=\"M0 0h24v24H0V0z\" fill=\"none\"/>\n",
              "    <path d=\"M18.56 5.44l.94 2.06.94-2.06 2.06-.94-2.06-.94-.94-2.06-.94 2.06-2.06.94zm-11 1L8.5 8.5l.94-2.06 2.06-.94-2.06-.94L8.5 2.5l-.94 2.06-2.06.94zm10 10l.94 2.06.94-2.06 2.06-.94-2.06-.94-.94-2.06-.94 2.06-2.06.94z\"/><path d=\"M17.41 7.96l-1.37-1.37c-.4-.4-.92-.59-1.43-.59-.52 0-1.04.2-1.43.59L10.3 9.45l-7.72 7.72c-.78.78-.78 2.05 0 2.83L4 21.41c.39.39.9.59 1.41.59.51 0 1.02-.2 1.41-.59l7.78-7.78 2.81-2.81c.8-.78.8-2.07 0-2.86zM5.41 20L4 18.59l7.72-7.72 1.47 1.35L5.41 20z\"/>\n",
              "  </svg>\n",
              "      </button>\n",
              "      \n",
              "  <style>\n",
              "    .colab-df-container {\n",
              "      display:flex;\n",
              "      flex-wrap:wrap;\n",
              "      gap: 12px;\n",
              "    }\n",
              "\n",
              "    .colab-df-convert {\n",
              "      background-color: #E8F0FE;\n",
              "      border: none;\n",
              "      border-radius: 50%;\n",
              "      cursor: pointer;\n",
              "      display: none;\n",
              "      fill: #1967D2;\n",
              "      height: 32px;\n",
              "      padding: 0 0 0 0;\n",
              "      width: 32px;\n",
              "    }\n",
              "\n",
              "    .colab-df-convert:hover {\n",
              "      background-color: #E2EBFA;\n",
              "      box-shadow: 0px 1px 2px rgba(60, 64, 67, 0.3), 0px 1px 3px 1px rgba(60, 64, 67, 0.15);\n",
              "      fill: #174EA6;\n",
              "    }\n",
              "\n",
              "    [theme=dark] .colab-df-convert {\n",
              "      background-color: #3B4455;\n",
              "      fill: #D2E3FC;\n",
              "    }\n",
              "\n",
              "    [theme=dark] .colab-df-convert:hover {\n",
              "      background-color: #434B5C;\n",
              "      box-shadow: 0px 1px 3px 1px rgba(0, 0, 0, 0.15);\n",
              "      filter: drop-shadow(0px 1px 2px rgba(0, 0, 0, 0.3));\n",
              "      fill: #FFFFFF;\n",
              "    }\n",
              "  </style>\n",
              "\n",
              "      <script>\n",
              "        const buttonEl =\n",
              "          document.querySelector('#df-2114f4ed-b75b-450d-abbd-d53a4931abba button.colab-df-convert');\n",
              "        buttonEl.style.display =\n",
              "          google.colab.kernel.accessAllowed ? 'block' : 'none';\n",
              "\n",
              "        async function convertToInteractive(key) {\n",
              "          const element = document.querySelector('#df-2114f4ed-b75b-450d-abbd-d53a4931abba');\n",
              "          const dataTable =\n",
              "            await google.colab.kernel.invokeFunction('convertToInteractive',\n",
              "                                                     [key], {});\n",
              "          if (!dataTable) return;\n",
              "\n",
              "          const docLinkHtml = 'Like what you see? Visit the ' +\n",
              "            '<a target=\"_blank\" href=https://colab.research.google.com/notebooks/data_table.ipynb>data table notebook</a>'\n",
              "            + ' to learn more about interactive tables.';\n",
              "          element.innerHTML = '';\n",
              "          dataTable['output_type'] = 'display_data';\n",
              "          await google.colab.output.renderOutput(dataTable, element);\n",
              "          const docLink = document.createElement('div');\n",
              "          docLink.innerHTML = docLinkHtml;\n",
              "          element.appendChild(docLink);\n",
              "        }\n",
              "      </script>\n",
              "    </div>\n",
              "  </div>\n",
              "  "
            ]
          },
          "metadata": {},
          "execution_count": 105
        }
      ]
    },
    {
      "cell_type": "code",
      "source": [
        "#metrics_dict = {'MAE': [mean_absolute_error(y_test, pred_tree)], 'MSE': [mean_squared_error(y_test, pred_tree)],\n",
        "#              'R2': [r2_score(y_test, pred_tree)], 'MAPE': [mean_absolute_percentage_error(y_test, pred_tree)]}\n",
        "#pd.DataFrame.from_dict(metrics_dict, orient='index')"
      ],
      "metadata": {
        "id": "x8uA8KI52o0U"
      },
      "execution_count": 106,
      "outputs": []
    },
    {
      "cell_type": "code",
      "source": [
        "r2 = r2_score(y_test, pred)\n",
        "n = len(y_test)\n",
        "p = X_test.shape[1]\n",
        "\n",
        "\n",
        "print(1 - (1-r2)*(n-1)/(n-p-1))"
      ],
      "metadata": {
        "id": "57Tqzvr9QR8Y",
        "colab": {
          "base_uri": "https://localhost:8080/"
        },
        "outputId": "010504ea-2a0c-464d-a301-d00d9b5fbc70"
      },
      "execution_count": 107,
      "outputs": [
        {
          "output_type": "stream",
          "name": "stdout",
          "text": [
            "0.8202421868024238\n"
          ]
        }
      ]
    },
    {
      "cell_type": "code",
      "source": [
        "from yellowbrick.regressor import ResidualsPlot, PredictionError\n",
        "\n",
        "visualizer = ResidualsPlot(model,hist=False, qqplot=True)\n",
        "\n",
        "visualizer.fit(X_train_encPCA, y_train)  # Fit the training data to the visualizer\n",
        "visualizer.score(pcaDatatest, y_test)  # Evaluate the model on the test data\n",
        "visualizer.show();"
      ],
      "metadata": {
        "id": "JnzfF9raQThJ",
        "colab": {
          "base_uri": "https://localhost:8080/",
          "height": 639
        },
        "outputId": "7777d5fc-9e2c-4d0c-82bd-275e5501a506"
      },
      "execution_count": 108,
      "outputs": [
        {
          "output_type": "display_data",
          "data": {
            "text/plain": [
              "<Figure size 700x700 with 2 Axes>"
            ],
            "image/png": "[encoded data removed]"
          },
          "metadata": {}
        }
      ]
    },
    {
      "cell_type": "code",
      "source": [
        "from yellowbrick.regressor import ResidualsPlot, PredictionError\n",
        "\n",
        "visualizer = PredictionError(model)\n",
        "\n",
        "visualizer.fit(X_train_encPCA, y_train)  # Fit the training data to the visualizer\n",
        "visualizer.score(pcaDatatest, y_test)  # Evaluate the model on the test data\n",
        "visualizer.show() "
      ],
      "metadata": {
        "id": "16G-6tA1dnsI",
        "colab": {
          "base_uri": "https://localhost:8080/",
          "height": 658
        },
        "outputId": "22a342a9-25ff-4f71-b00f-fc738f421ac2"
      },
      "execution_count": 109,
      "outputs": [
        {
          "output_type": "display_data",
          "data": {
            "text/plain": [
              "<Figure size 700x700 with 1 Axes>"
            ],
            "image/png": "[encoded data removed]"
          },
          "metadata": {}
        },
        {
          "output_type": "execute_result",
          "data": {
            "text/plain": [
              "<Axes: title={'center': 'Prediction Error for RandomForestRegressor'}, xlabel='$y$', ylabel='$\\\\hat{y}$'>"
            ]
          },
          "metadata": {},
          "execution_count": 109
        }
      ]
    },
    {
      "cell_type": "code",
      "source": [
        "from sklearn.model_selection import StratifiedKFold, cross_val_score, train_test_split\n",
        "from sklearn.metrics import accuracy_score"
      ],
      "metadata": {
        "id": "mrAeZJTd8787"
      },
      "execution_count": 110,
      "outputs": []
    },
    {
      "cell_type": "code",
      "source": [
        "#metodo para crossvalidation\n",
        "CV_scores = cross_val_score(model, X_train_encPCA, y_train, cv=10)"
      ],
      "metadata": {
        "id": "Bh9oqvdI8tPv"
      },
      "execution_count": 111,
      "outputs": []
    },
    {
      "cell_type": "code",
      "source": [
        "CV_scores"
      ],
      "metadata": {
        "colab": {
          "base_uri": "https://localhost:8080/"
        },
        "id": "tBVR4Cci9HS5",
        "outputId": "d4c89622-eee9-404f-e563-bbb743a3b92b"
      },
      "execution_count": 112,
      "outputs": [
        {
          "output_type": "execute_result",
          "data": {
            "text/plain": [
              "array([0.86209955, 0.84873951, 0.79763374, 0.81482559, 0.85681027,\n",
              "       0.79080259, 0.87667452, 0.87645464, 0.80849247, 0.86001502])"
            ]
          },
          "metadata": {},
          "execution_count": 112
        }
      ]
    },
    {
      "cell_type": "code",
      "source": [
        "print(\"Cross validation score es  %.5f ± %0.2f\" % (CV_scores.mean(), CV_scores.std()))"
      ],
      "metadata": {
        "colab": {
          "base_uri": "https://localhost:8080/"
        },
        "id": "eSRzHs_N9MA2",
        "outputId": "662bc57e-5100-4a70-f8ce-03516ad19776"
      },
      "execution_count": 113,
      "outputs": [
        {
          "output_type": "stream",
          "name": "stdout",
          "text": [
            "Cross validation score es  0.83925 ± 0.03\n"
          ]
        }
      ]
    },
    {
      "cell_type": "markdown",
      "source": [
        "**0.83944 ± 0.03  es la prediccion del modelo RANDON FOREST segun Cross validation.**"
      ],
      "metadata": {
        "id": "VtEMorFOObcQ"
      }
    },
    {
      "cell_type": "code",
      "source": [
        "#ejemplo para estratificado\n",
        "\n",
        "kfold = StratifiedKFold(n_splits=10,shuffle=True)\n",
        "\n",
        "model = RandomForestRegressor()\n",
        "CV_scores = cross_val_score(model, X_train_encPCA, y_train, cv=kfold)\n",
        "\n",
        "print(\"Cross validation score es  %.5f ± %0.2f\" % (CV_scores.mean(), CV_scores.std()))"
      ],
      "metadata": {
        "colab": {
          "base_uri": "https://localhost:8080/"
        },
        "id": "Q73duAEa9TDq",
        "outputId": "bec087da-b488-4db0-b1a4-73ae44f568eb"
      },
      "execution_count": 114,
      "outputs": [
        {
          "output_type": "stream",
          "name": "stderr",
          "text": [
            "/usr/local/lib/python3.10/dist-packages/sklearn/model_selection/_split.py:700: UserWarning: The least populated class in y has only 1 members, which is less than n_splits=10.\n",
            "  warnings.warn(\n"
          ]
        },
        {
          "output_type": "stream",
          "name": "stdout",
          "text": [
            "Cross validation score es  0.84010 ± 0.03\n"
          ]
        }
      ]
    },
    {
      "cell_type": "markdown",
      "source": [
        "**Determinación de underfitting o overfitting**"
      ],
      "metadata": {
        "id": "UYS3-Kbx9wGn"
      }
    },
    {
      "cell_type": "code",
      "source": [
        "!pip install colorama\n",
        "from colorama import Fore"
      ],
      "metadata": {
        "colab": {
          "base_uri": "https://localhost:8080/"
        },
        "id": "lGoeUeYb9s49",
        "outputId": "5e19f65b-3aec-46c9-f782-5f4dc750e943"
      },
      "execution_count": 115,
      "outputs": [
        {
          "output_type": "stream",
          "name": "stdout",
          "text": [
            "Looking in indexes: https://pypi.org/simple, https://us-python.pkg.dev/colab-wheels/public/simple/\n",
            "Requirement already satisfied: colorama in /usr/local/lib/python3.10/dist-packages (0.4.6)\n"
          ]
        }
      ]
    },
    {
      "cell_type": "code",
      "source": [
        "def print_scores(model ,X_train_encPCA , y_train, predictions , cv_splites=10):\n",
        "    \n",
        "    print(Fore.BLUE , \"El promedion de score en el train es  %.5f\" % model.score(X_train_encPCA, y_train))\n",
        "\n",
        "    #cross validation\n",
        "\n",
        "    CV_scores = cross_val_score(model,X_train_encPCA, y_train, cv=cv_splites)\n",
        "    \n",
        "    print(Fore.BLACK ,\"Los scores del cross validation son: \\n\",CV_scores)\n",
        "    print(Fore.BLACK ,\"El score minimo es %.3f\" % min(CV_scores))\n",
        "    print(Fore.BLACK ,\"El maximo score es %.3f\" % max(CV_scores))\n",
        "    print(Fore.YELLOW ,\"Cross validation score es  %.5f ± %0.2f\" % (CV_scores.mean(), CV_scores.std()))\n",
        "   #print(Fore.RED ,\"El test score es  %.5f \" % accuracy_score(y_test,predictions))"
      ],
      "metadata": {
        "id": "kmwEnMoK935e"
      },
      "execution_count": 116,
      "outputs": []
    },
    {
      "cell_type": "code",
      "source": [
        "y_test.shape"
      ],
      "metadata": {
        "colab": {
          "base_uri": "https://localhost:8080/"
        },
        "id": "g8gY_FAal436",
        "outputId": "1004c3d1-3be7-4355-d7a1-41f44bafbd11"
      },
      "execution_count": 117,
      "outputs": [
        {
          "output_type": "execute_result",
          "data": {
            "text/plain": [
              "(446,)"
            ]
          },
          "metadata": {},
          "execution_count": 117
        }
      ]
    },
    {
      "cell_type": "code",
      "source": [
        "model = RandomForestRegressor()\n",
        "model.fit(X_train_encPCA, y_train)\n",
        "\n",
        "predictions = model.predict(pcaDatatest)\n",
        "print_scores(model, X_train_encPCA, y_train, predictions)"
      ],
      "metadata": {
        "colab": {
          "base_uri": "https://localhost:8080/"
        },
        "id": "o16gebh0-DOA",
        "outputId": "6ea30be5-88ae-4ae9-c26d-7170943c9663"
      },
      "execution_count": 118,
      "outputs": [
        {
          "output_type": "stream",
          "name": "stdout",
          "text": [
            "\u001b[34m El promedion de score en el train es  0.97812\n",
            "\u001b[30m Los scores del cross validation son: \n",
            " [0.86842861 0.84833547 0.79778247 0.81165909 0.86521469 0.79025104\n",
            " 0.87568282 0.87879178 0.81683975 0.85645273]\n",
            "\u001b[30m El score minimo es 0.790\n",
            "\u001b[30m El maximo score es 0.879\n",
            "\u001b[33m Cross validation score es  0.84094 ± 0.03\n"
          ]
        }
      ]
    },
    {
      "cell_type": "markdown",
      "source": [
        "**LeaveOneOut**"
      ],
      "metadata": {
        "id": "foltCYGBizq6"
      }
    },
    {
      "cell_type": "code",
      "source": [
        "X_train_encPCA.head()"
      ],
      "metadata": {
        "colab": {
          "base_uri": "https://localhost:8080/",
          "height": 270
        },
        "id": "shCXVCi9i26r",
        "outputId": "99663765-f46b-4df6-d017-89e22dca42b4"
      },
      "execution_count": 119,
      "outputs": [
        {
          "output_type": "execute_result",
          "data": {
            "text/plain": [
              "         0         1         2         3         4         5         6   \\\n",
              "0  0.719146 -1.231622  0.930618 -0.113730  1.093443 -0.195168  0.501384   \n",
              "1 -2.217542  0.115506 -0.409769  1.055254 -0.141914  0.718164  0.436794   \n",
              "2  1.821500 -1.130224  0.651028 -0.834094  0.063432 -0.830669 -0.084158   \n",
              "3  1.021970 -0.387139 -1.589039  0.399581 -0.863917 -0.045564 -0.177762   \n",
              "4  1.715470 -0.634820  0.636840 -0.557327  0.000973 -0.644820 -0.344006   \n",
              "\n",
              "         7         8         9         10        11        12  \n",
              "0 -0.613909  0.382544  0.390024 -0.048311 -0.107862  0.004438  \n",
              "1  0.239590 -0.371400 -0.189894 -0.385359 -0.393042 -0.368789  \n",
              "2 -0.035652 -0.242807  0.505518 -0.031962 -0.350830 -0.359677  \n",
              "3  0.152497 -0.601616  0.025002 -0.554228 -0.397712 -0.212976  \n",
              "4 -0.036339 -0.265620  0.535585  0.035435 -0.352897 -0.008347  "
            ],
            "text/html": [
              "\n",
              "  <div id=\"df-a7b52c47-88ae-4b87-be92-06b2186bc166\">\n",
              "    <div class=\"colab-df-container\">\n",
              "      <div>\n",
              "<style scoped>\n",
              "    .dataframe tbody tr th:only-of-type {\n",
              "        vertical-align: middle;\n",
              "    }\n",
              "\n",
              "    .dataframe tbody tr th {\n",
              "        vertical-align: top;\n",
              "    }\n",
              "\n",
              "    .dataframe thead th {\n",
              "        text-align: right;\n",
              "    }\n",
              "</style>\n",
              "<table border=\"1\" class=\"dataframe\">\n",
              "  <thead>\n",
              "    <tr style=\"text-align: right;\">\n",
              "      <th></th>\n",
              "      <th>0</th>\n",
              "      <th>1</th>\n",
              "      <th>2</th>\n",
              "      <th>3</th>\n",
              "      <th>4</th>\n",
              "      <th>5</th>\n",
              "      <th>6</th>\n",
              "      <th>7</th>\n",
              "      <th>8</th>\n",
              "      <th>9</th>\n",
              "      <th>10</th>\n",
              "      <th>11</th>\n",
              "      <th>12</th>\n",
              "    </tr>\n",
              "  </thead>\n",
              "  <tbody>\n",
              "    <tr>\n",
              "      <th>0</th>\n",
              "      <td>0.719146</td>\n",
              "      <td>-1.231622</td>\n",
              "      <td>0.930618</td>\n",
              "      <td>-0.113730</td>\n",
              "      <td>1.093443</td>\n",
              "      <td>-0.195168</td>\n",
              "      <td>0.501384</td>\n",
              "      <td>-0.613909</td>\n",
              "      <td>0.382544</td>\n",
              "      <td>0.390024</td>\n",
              "      <td>-0.048311</td>\n",
              "      <td>-0.107862</td>\n",
              "      <td>0.004438</td>\n",
              "    </tr>\n",
              "    <tr>\n",
              "      <th>1</th>\n",
              "      <td>-2.217542</td>\n",
              "      <td>0.115506</td>\n",
              "      <td>-0.409769</td>\n",
              "      <td>1.055254</td>\n",
              "      <td>-0.141914</td>\n",
              "      <td>0.718164</td>\n",
              "      <td>0.436794</td>\n",
              "      <td>0.239590</td>\n",
              "      <td>-0.371400</td>\n",
              "      <td>-0.189894</td>\n",
              "      <td>-0.385359</td>\n",
              "      <td>-0.393042</td>\n",
              "      <td>-0.368789</td>\n",
              "    </tr>\n",
              "    <tr>\n",
              "      <th>2</th>\n",
              "      <td>1.821500</td>\n",
              "      <td>-1.130224</td>\n",
              "      <td>0.651028</td>\n",
              "      <td>-0.834094</td>\n",
              "      <td>0.063432</td>\n",
              "      <td>-0.830669</td>\n",
              "      <td>-0.084158</td>\n",
              "      <td>-0.035652</td>\n",
              "      <td>-0.242807</td>\n",
              "      <td>0.505518</td>\n",
              "      <td>-0.031962</td>\n",
              "      <td>-0.350830</td>\n",
              "      <td>-0.359677</td>\n",
              "    </tr>\n",
              "    <tr>\n",
              "      <th>3</th>\n",
              "      <td>1.021970</td>\n",
              "      <td>-0.387139</td>\n",
              "      <td>-1.589039</td>\n",
              "      <td>0.399581</td>\n",
              "      <td>-0.863917</td>\n",
              "      <td>-0.045564</td>\n",
              "      <td>-0.177762</td>\n",
              "      <td>0.152497</td>\n",
              "      <td>-0.601616</td>\n",
              "      <td>0.025002</td>\n",
              "      <td>-0.554228</td>\n",
              "      <td>-0.397712</td>\n",
              "      <td>-0.212976</td>\n",
              "    </tr>\n",
              "    <tr>\n",
              "      <th>4</th>\n",
              "      <td>1.715470</td>\n",
              "      <td>-0.634820</td>\n",
              "      <td>0.636840</td>\n",
              "      <td>-0.557327</td>\n",
              "      <td>0.000973</td>\n",
              "      <td>-0.644820</td>\n",
              "      <td>-0.344006</td>\n",
              "      <td>-0.036339</td>\n",
              "      <td>-0.265620</td>\n",
              "      <td>0.535585</td>\n",
              "      <td>0.035435</td>\n",
              "      <td>-0.352897</td>\n",
              "      <td>-0.008347</td>\n",
              "    </tr>\n",
              "  </tbody>\n",
              "</table>\n",
              "</div>\n",
              "      <button class=\"colab-df-convert\" onclick=\"convertToInteractive('df-a7b52c47-88ae-4b87-be92-06b2186bc166')\"\n",
              "              title=\"Convert this dataframe to an interactive table.\"\n",
              "              style=\"display:none;\">\n",
              "        \n",
              "  <svg xmlns=\"http://www.w3.org/2000/svg\" height=\"24px\"viewBox=\"0 0 24 24\"\n",
              "       width=\"24px\">\n",
              "    <path d=\"M0 0h24v24H0V0z\" fill=\"none\"/>\n",
              "    <path d=\"M18.56 5.44l.94 2.06.94-2.06 2.06-.94-2.06-.94-.94-2.06-.94 2.06-2.06.94zm-11 1L8.5 8.5l.94-2.06 2.06-.94-2.06-.94L8.5 2.5l-.94 2.06-2.06.94zm10 10l.94 2.06.94-2.06 2.06-.94-2.06-.94-.94-2.06-.94 2.06-2.06.94z\"/><path d=\"M17.41 7.96l-1.37-1.37c-.4-.4-.92-.59-1.43-.59-.52 0-1.04.2-1.43.59L10.3 9.45l-7.72 7.72c-.78.78-.78 2.05 0 2.83L4 21.41c.39.39.9.59 1.41.59.51 0 1.02-.2 1.41-.59l7.78-7.78 2.81-2.81c.8-.78.8-2.07 0-2.86zM5.41 20L4 18.59l7.72-7.72 1.47 1.35L5.41 20z\"/>\n",
              "  </svg>\n",
              "      </button>\n",
              "      \n",
              "  <style>\n",
              "    .colab-df-container {\n",
              "      display:flex;\n",
              "      flex-wrap:wrap;\n",
              "      gap: 12px;\n",
              "    }\n",
              "\n",
              "    .colab-df-convert {\n",
              "      background-color: #E8F0FE;\n",
              "      border: none;\n",
              "      border-radius: 50%;\n",
              "      cursor: pointer;\n",
              "      display: none;\n",
              "      fill: #1967D2;\n",
              "      height: 32px;\n",
              "      padding: 0 0 0 0;\n",
              "      width: 32px;\n",
              "    }\n",
              "\n",
              "    .colab-df-convert:hover {\n",
              "      background-color: #E2EBFA;\n",
              "      box-shadow: 0px 1px 2px rgba(60, 64, 67, 0.3), 0px 1px 3px 1px rgba(60, 64, 67, 0.15);\n",
              "      fill: #174EA6;\n",
              "    }\n",
              "\n",
              "    [theme=dark] .colab-df-convert {\n",
              "      background-color: #3B4455;\n",
              "      fill: #D2E3FC;\n",
              "    }\n",
              "\n",
              "    [theme=dark] .colab-df-convert:hover {\n",
              "      background-color: #434B5C;\n",
              "      box-shadow: 0px 1px 3px 1px rgba(0, 0, 0, 0.15);\n",
              "      filter: drop-shadow(0px 1px 2px rgba(0, 0, 0, 0.3));\n",
              "      fill: #FFFFFF;\n",
              "    }\n",
              "  </style>\n",
              "\n",
              "      <script>\n",
              "        const buttonEl =\n",
              "          document.querySelector('#df-a7b52c47-88ae-4b87-be92-06b2186bc166 button.colab-df-convert');\n",
              "        buttonEl.style.display =\n",
              "          google.colab.kernel.accessAllowed ? 'block' : 'none';\n",
              "\n",
              "        async function convertToInteractive(key) {\n",
              "          const element = document.querySelector('#df-a7b52c47-88ae-4b87-be92-06b2186bc166');\n",
              "          const dataTable =\n",
              "            await google.colab.kernel.invokeFunction('convertToInteractive',\n",
              "                                                     [key], {});\n",
              "          if (!dataTable) return;\n",
              "\n",
              "          const docLinkHtml = 'Like what you see? Visit the ' +\n",
              "            '<a target=\"_blank\" href=https://colab.research.google.com/notebooks/data_table.ipynb>data table notebook</a>'\n",
              "            + ' to learn more about interactive tables.';\n",
              "          element.innerHTML = '';\n",
              "          dataTable['output_type'] = 'display_data';\n",
              "          await google.colab.output.renderOutput(dataTable, element);\n",
              "          const docLink = document.createElement('div');\n",
              "          docLink.innerHTML = docLinkHtml;\n",
              "          element.appendChild(docLink);\n",
              "        }\n",
              "      </script>\n",
              "    </div>\n",
              "  </div>\n",
              "  "
            ]
          },
          "metadata": {},
          "execution_count": 119
        }
      ]
    },
    {
      "cell_type": "code",
      "source": [
        "y_train.head()"
      ],
      "metadata": {
        "colab": {
          "base_uri": "https://localhost:8080/"
        },
        "id": "1CNjGEQDjONZ",
        "outputId": "1aaf2026-8d50-4b5e-d19e-55b1611ce4f9"
      },
      "execution_count": 120,
      "outputs": [
        {
          "output_type": "execute_result",
          "data": {
            "text/plain": [
              "507      137\n",
              "1043    1123\n",
              "205       53\n",
              "916       46\n",
              "2205      52\n",
              "Name: Mnt_total, dtype: int64"
            ]
          },
          "metadata": {},
          "execution_count": 120
        }
      ]
    },
    {
      "cell_type": "code",
      "source": [
        "from sklearn.linear_model import LinearRegression\n",
        "from sklearn.metrics import mean_squared_error\n",
        "from sklearn.model_selection import LeaveOneOut\n",
        "from sklearn.model_selection import cross_val_score\n",
        "from sklearn.model_selection import KFold, StratifiedKFold, cross_val_score\n",
        "from numpy import mean\n",
        "from numpy import std\n",
        "from numpy import absolute\n"
      ],
      "metadata": {
        "id": "Z_1xvcXjnhqg"
      },
      "execution_count": 121,
      "outputs": []
    },
    {
      "cell_type": "code",
      "source": [
        "#creando el modelo\n",
        "model_loo = RandomForestRegressor()\n",
        "cv = LeaveOneOut()\n",
        "\n",
        "#evaluando el modelo\n",
        "resultado_loo = cross_val_score(model_loo, X_train_encPCA, y_train,  scoring='neg_mean_absolute_error',  n_jobs=-1)\n",
        "score = resultado_loo.mean()\n",
        "print(\"Error medio:\", score)"
      ],
      "metadata": {
        "colab": {
          "base_uri": "https://localhost:8080/"
        },
        "id": "CJoSX78ujxoJ",
        "outputId": "38947e41-2bbb-4005-8e77-1997adb9a2aa"
      },
      "execution_count": 122,
      "outputs": [
        {
          "output_type": "stream",
          "name": "stdout",
          "text": [
            "Error medio: -141.29906423693072\n"
          ]
        }
      ]
    },
    {
      "cell_type": "markdown",
      "source": [
        "El error absoluto medio entre la predicción del modelo y los datos reales observados es de 140"
      ],
      "metadata": {
        "id": "xJmoZTt54LL_"
      }
    },
    {
      "cell_type": "code",
      "source": [
        "resultado_loo2 = cross_val_score(model_loo, X_train_encPCA, y_train, scoring='neg_mean_squared_error', cv=cv, n_jobs=-1)\n",
        "scores2 = resultado_loo2.mean()\n",
        "print(\"Desviación estándar de los valores residuales:\", scores2)"
      ],
      "metadata": {
        "colab": {
          "base_uri": "https://localhost:8080/"
        },
        "id": "g5AgQkkE1E4n",
        "outputId": "a59cbe92-b5c7-4e2a-aa33-c960fec8d47d"
      },
      "execution_count": 64,
      "outputs": [
        {
          "output_type": "stream",
          "name": "stdout",
          "text": [
            "Desviación estándar de los valores residuales: -57580.5386171156\n"
          ]
        }
      ]
    },
    {
      "cell_type": "markdown",
      "source": [
        "**K-Fold**"
      ],
      "metadata": {
        "id": "LT1moZaHqIWV"
      }
    },
    {
      "cell_type": "code",
      "source": [
        "modelkfold = RandomForestRegressor()"
      ],
      "metadata": {
        "id": "tZSDFzHPqizZ"
      },
      "execution_count": 123,
      "outputs": []
    },
    {
      "cell_type": "code",
      "source": [
        "kf =KFold(n_splits=5, shuffle=True, random_state=42)\n",
        "cnt = 1  "
      ],
      "metadata": {
        "id": "K9N3bcfdqMkX"
      },
      "execution_count": 124,
      "outputs": []
    },
    {
      "cell_type": "code",
      "source": [
        "for train_index, test_index in kf.split(X, y):\n",
        "    print(f'Fold:{cnt}, Train set: {len(train_index)}, Test set:{len(test_index)}')\n",
        "    cnt += 1"
      ],
      "metadata": {
        "colab": {
          "base_uri": "https://localhost:8080/"
        },
        "id": "pv0S-YWVqUBF",
        "outputId": "fa2fda83-e94b-4198-beec-07fb8165407a"
      },
      "execution_count": 125,
      "outputs": [
        {
          "output_type": "stream",
          "name": "stdout",
          "text": [
            "Fold:1, Train set: 1782, Test set:446\n",
            "Fold:2, Train set: 1782, Test set:446\n",
            "Fold:3, Train set: 1782, Test set:446\n",
            "Fold:4, Train set: 1783, Test set:445\n",
            "Fold:5, Train set: 1783, Test set:445\n"
          ]
        }
      ]
    },
    {
      "cell_type": "code",
      "source": [
        "def rmse(score):\n",
        "    rmse = np.sqrt(-score)\n",
        "    print(f'rmse= {\"{:.2f}\".format(rmse)}')"
      ],
      "metadata": {
        "id": "hl6bE_eLqYs0"
      },
      "execution_count": 126,
      "outputs": []
    },
    {
      "cell_type": "code",
      "source": [
        "score = cross_val_score(modelkfold, X_train_encPCA, y_train, cv= kf, scoring=\"neg_mean_squared_error\")\n"
      ],
      "metadata": {
        "id": "rAMI2wqrqcHg"
      },
      "execution_count": 127,
      "outputs": []
    },
    {
      "cell_type": "code",
      "source": [
        "print(f'Scores for each fold: {score}')\n",
        "rmse(score.mean())"
      ],
      "metadata": {
        "colab": {
          "base_uri": "https://localhost:8080/"
        },
        "id": "wzRvLyHKusWA",
        "outputId": "6def2cd6-4cfd-42b2-fb8b-6d8516b07260"
      },
      "execution_count": 128,
      "outputs": [
        {
          "output_type": "stream",
          "name": "stdout",
          "text": [
            "Scores for each fold: [-62846.67365854 -64403.59071345 -58404.78572669 -58316.48379551\n",
            " -49913.43702107]\n",
            "rmse= 242.44\n"
          ]
        }
      ]
    }
  ]
}